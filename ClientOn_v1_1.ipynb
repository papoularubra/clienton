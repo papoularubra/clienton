{
  "nbformat": 4,
  "nbformat_minor": 0,
  "metadata": {
    "colab": {
      "provenance": [],
      "include_colab_link": true
    },
    "kernelspec": {
      "name": "python3",
      "display_name": "Python 3"
    },
    "language_info": {
      "name": "python"
    }
  },
  "cells": [
    {
      "cell_type": "markdown",
      "metadata": {
        "id": "view-in-github",
        "colab_type": "text"
      },
      "source": [
        "<a href=\"https://colab.research.google.com/github/papoularubra/clienton/blob/main/ClientOn_v1_1.ipynb\" target=\"_parent\"><img src=\"https://colab.research.google.com/assets/colab-badge.svg\" alt=\"Open In Colab\"/></a>"
      ]
    },
    {
      "cell_type": "code",
      "source": [
        "%pip -q install google-genai"
      ],
      "metadata": {
        "id": "UCCbECexLk_h"
      },
      "execution_count": 11,
      "outputs": []
    },
    {
      "cell_type": "code",
      "source": [
        "# Configura a API Key do Google Gemini\n",
        "\n",
        "import os\n",
        "from google.colab import userdata\n",
        "\n",
        "os.environ[\"GOOGLE_API_KEY\"] = userdata.get('GOOGLE_API_KEY')"
      ],
      "metadata": {
        "id": "NfCqHo1tLk8P"
      },
      "execution_count": 12,
      "outputs": []
    },
    {
      "cell_type": "code",
      "source": [
        "# Configura o cliente da SDK do Gemini\n",
        "\n",
        "from google import genai\n",
        "\n",
        "client = genai.Client()\n",
        "\n",
        "MODEL_ID = \"gemini-2.0-flash\""
      ],
      "metadata": {
        "id": "bV4w0H5TLk5g"
      },
      "execution_count": 13,
      "outputs": []
    },
    {
      "cell_type": "code",
      "source": [
        "# Instalar Framework de agentes do Google ################################################\n",
        "!pip install -q google-adk"
      ],
      "metadata": {
        "colab": {
          "base_uri": "https://localhost:8080/"
        },
        "id": "a1eRPalxEnj7",
        "outputId": "03086a43-0bc9-4029-b4f6-073749338d97"
      },
      "execution_count": 10,
      "outputs": [
        {
          "output_type": "stream",
          "name": "stdout",
          "text": [
            "\u001b[?25l   \u001b[90m━━━━━━━━━━━━━━━━━━━━━━━━━━━━━━━━━━━━━━━━\u001b[0m \u001b[32m0.0/1.2 MB\u001b[0m \u001b[31m?\u001b[0m eta \u001b[36m-:--:--\u001b[0m\r\u001b[2K   \u001b[91m━━━━━━━━━━━━━━━━━━━━━━━━━━━━━━━━━━━━━━━\u001b[0m\u001b[91m╸\u001b[0m \u001b[32m1.2/1.2 MB\u001b[0m \u001b[31m75.2 MB/s\u001b[0m eta \u001b[36m0:00:01\u001b[0m\r\u001b[2K   \u001b[90m━━━━━━━━━━━━━━━━━━━━━━━━━━━━━━━━━━━━━━━━\u001b[0m \u001b[32m1.2/1.2 MB\u001b[0m \u001b[31m29.9 MB/s\u001b[0m eta \u001b[36m0:00:00\u001b[0m\n",
            "\u001b[?25h\u001b[?25l   \u001b[90m━━━━━━━━━━━━━━━━━━━━━━━━━━━━━━━━━━━━━━━━\u001b[0m \u001b[32m0.0/232.1 kB\u001b[0m \u001b[31m?\u001b[0m eta \u001b[36m-:--:--\u001b[0m\r\u001b[2K   \u001b[90m━━━━━━━━━━━━━━━━━━━━━━━━━━━━━━━━━━━━━━━━\u001b[0m \u001b[32m232.1/232.1 kB\u001b[0m \u001b[31m9.0 MB/s\u001b[0m eta \u001b[36m0:00:00\u001b[0m\n",
            "\u001b[?25h\u001b[?25l   \u001b[90m━━━━━━━━━━━━━━━━━━━━━━━━━━━━━━━━━━━━━━━━\u001b[0m \u001b[32m0.0/95.2 kB\u001b[0m \u001b[31m?\u001b[0m eta \u001b[36m-:--:--\u001b[0m\r\u001b[2K   \u001b[90m━━━━━━━━━━━━━━━━━━━━━━━━━━━━━━━━━━━━━━━━\u001b[0m \u001b[32m95.2/95.2 kB\u001b[0m \u001b[31m5.4 MB/s\u001b[0m eta \u001b[36m0:00:00\u001b[0m\n",
            "\u001b[?25h\u001b[?25l   \u001b[90m━━━━━━━━━━━━━━━━━━━━━━━━━━━━━━━━━━━━━━━━\u001b[0m \u001b[32m0.0/217.1 kB\u001b[0m \u001b[31m?\u001b[0m eta \u001b[36m-:--:--\u001b[0m\r\u001b[2K   \u001b[90m━━━━━━━━━━━━━━━━━━━━━━━━━━━━━━━━━━━━━━━━\u001b[0m \u001b[32m217.1/217.1 kB\u001b[0m \u001b[31m7.8 MB/s\u001b[0m eta \u001b[36m0:00:00\u001b[0m\n",
            "\u001b[?25h\u001b[?25l   \u001b[90m━━━━━━━━━━━━━━━━━━━━━━━━━━━━━━━━━━━━━━━━\u001b[0m \u001b[32m0.0/334.1 kB\u001b[0m \u001b[31m?\u001b[0m eta \u001b[36m-:--:--\u001b[0m\r\u001b[2K   \u001b[90m━━━━━━━━━━━━━━━━━━━━━━━━━━━━━━━━━━━━━━━━\u001b[0m \u001b[32m334.1/334.1 kB\u001b[0m \u001b[31m10.8 MB/s\u001b[0m eta \u001b[36m0:00:00\u001b[0m\n",
            "\u001b[2K   \u001b[90m━━━━━━━━━━━━━━━━━━━━━━━━━━━━━━━━━━━━━━━━\u001b[0m \u001b[32m125.1/125.1 kB\u001b[0m \u001b[31m4.7 MB/s\u001b[0m eta \u001b[36m0:00:00\u001b[0m\n",
            "\u001b[2K   \u001b[90m━━━━━━━━━━━━━━━━━━━━━━━━━━━━━━━━━━━━━━━━\u001b[0m \u001b[32m65.8/65.8 kB\u001b[0m \u001b[31m1.9 MB/s\u001b[0m eta \u001b[36m0:00:00\u001b[0m\n",
            "\u001b[2K   \u001b[90m━━━━━━━━━━━━━━━━━━━━━━━━━━━━━━━━━━━━━━━━\u001b[0m \u001b[32m119.0/119.0 kB\u001b[0m \u001b[31m5.6 MB/s\u001b[0m eta \u001b[36m0:00:00\u001b[0m\n",
            "\u001b[2K   \u001b[90m━━━━━━━━━━━━━━━━━━━━━━━━━━━━━━━━━━━━━━━━\u001b[0m \u001b[32m194.9/194.9 kB\u001b[0m \u001b[31m10.5 MB/s\u001b[0m eta \u001b[36m0:00:00\u001b[0m\n",
            "\u001b[2K   \u001b[90m━━━━━━━━━━━━━━━━━━━━━━━━━━━━━━━━━━━━━━━━\u001b[0m \u001b[32m62.5/62.5 kB\u001b[0m \u001b[31m3.4 MB/s\u001b[0m eta \u001b[36m0:00:00\u001b[0m\n",
            "\u001b[2K   \u001b[90m━━━━━━━━━━━━━━━━━━━━━━━━━━━━━━━━━━━━━━━━\u001b[0m \u001b[32m103.3/103.3 kB\u001b[0m \u001b[31m4.8 MB/s\u001b[0m eta \u001b[36m0:00:00\u001b[0m\n",
            "\u001b[2K   \u001b[90m━━━━━━━━━━━━━━━━━━━━━━━━━━━━━━━━━━━━━━━━\u001b[0m \u001b[32m44.4/44.4 kB\u001b[0m \u001b[31m2.2 MB/s\u001b[0m eta \u001b[36m0:00:00\u001b[0m\n",
            "\u001b[2K   \u001b[90m━━━━━━━━━━━━━━━━━━━━━━━━━━━━━━━━━━━━━━━━\u001b[0m \u001b[32m72.0/72.0 kB\u001b[0m \u001b[31m4.4 MB/s\u001b[0m eta \u001b[36m0:00:00\u001b[0m\n",
            "\u001b[?25h"
          ]
        }
      ]
    },
    {
      "cell_type": "code",
      "source": [
        "!pip install -U googlemaps"
      ],
      "metadata": {
        "colab": {
          "base_uri": "https://localhost:8080/"
        },
        "id": "tIadoTinXvxv",
        "outputId": "82bd4e66-b87a-4233-9d9b-3062569d0ac7"
      },
      "execution_count": 21,
      "outputs": [
        {
          "output_type": "stream",
          "name": "stdout",
          "text": [
            "Requirement already satisfied: googlemaps in /usr/local/lib/python3.11/dist-packages (4.10.0)\n",
            "Requirement already satisfied: requests<3.0,>=2.20.0 in /usr/local/lib/python3.11/dist-packages (from googlemaps) (2.32.3)\n",
            "Requirement already satisfied: charset-normalizer<4,>=2 in /usr/local/lib/python3.11/dist-packages (from requests<3.0,>=2.20.0->googlemaps) (3.4.2)\n",
            "Requirement already satisfied: idna<4,>=2.5 in /usr/local/lib/python3.11/dist-packages (from requests<3.0,>=2.20.0->googlemaps) (3.10)\n",
            "Requirement already satisfied: urllib3<3,>=1.21.1 in /usr/local/lib/python3.11/dist-packages (from requests<3.0,>=2.20.0->googlemaps) (2.4.0)\n",
            "Requirement already satisfied: certifi>=2017.4.17 in /usr/local/lib/python3.11/dist-packages (from requests<3.0,>=2.20.0->googlemaps) (2025.4.26)\n"
          ]
        }
      ]
    },
    {
      "cell_type": "code",
      "source": [
        "import googlemaps\n",
        "\n",
        "# Substitua 'SUA_CHAVE_DE_API' pela sua chave de API real\n",
        "api_key = 'GOOGLE_PLACES",
        "gmaps = googlemaps.Client(key=api_key)\n",
        "\n",
        "# Agora você pode usar o objeto 'gmaps' para interagir com a API\n",
        "# Exemplo de uma chamada à API de geocodificação:\n",
        "try:\n",
        "    geocode_result = gmaps.geocode('Avenida Paulista, São Paulo')\n",
        "    print(geocode_result)\n",
        "except Exception as e:\n",
        "    print(f\"Ocorreu um erro ao chamar a API: {e}\")"
      ],
      "metadata": {
        "colab": {
          "base_uri": "https://localhost:8080/"
        },
        "id": "ks9BNfkwbXTO",
        "outputId": "1ea36737-7d40-4b3d-8e86-0443fa8e45aa"
      },
      "execution_count": 25,
      "outputs": [
        {
          "output_type": "stream",
          "name": "stdout",
          "text": [
            "[{'address_components': [{'long_name': 'Avenida Paulista', 'short_name': 'Av. Paulista', 'types': ['route']}, {'long_name': 'São Paulo', 'short_name': 'São Paulo', 'types': ['administrative_area_level_2', 'political']}, {'long_name': 'São Paulo', 'short_name': 'SP', 'types': ['administrative_area_level_1', 'political']}, {'long_name': 'Brazil', 'short_name': 'BR', 'types': ['country', 'political']}], 'formatted_address': 'Av. Paulista, São Paulo - SP, Brazil', 'geometry': {'bounds': {'northeast': {'lat': -23.5525567, 'lng': -46.64398449999999}, 'southwest': {'lat': -23.5721549, 'lng': -46.6657058}}, 'location': {'lat': -23.5613545, 'lng': -46.6564943}, 'location_type': 'GEOMETRIC_CENTER', 'viewport': {'northeast': {'lat': -23.5525567, 'lng': -46.64398449999999}, 'southwest': {'lat': -23.5721549, 'lng': -46.6657058}}}, 'place_id': 'ChIJFaMK2shZzpQRanfJ8jGUn9U', 'types': ['route']}]\n"
          ]
        }
      ]
    },
    {
      "cell_type": "code",
      "execution_count": 14,
      "metadata": {
        "id": "aePV2bdfDeoW"
      },
      "outputs": [],
      "source": [
        "from google.adk.agents import Agent\n",
        "from google.adk.runners import Runner\n",
        "from google.adk.sessions import InMemorySessionService\n",
        "from google.adk.tools import google_search\n",
        "from googlemaps import places\n",
        "from google.genai import types  # Para criar conteúdos (Content e Part)\n",
        "from datetime import date\n",
        "import textwrap # Para formatar melhor a saída de texto\n",
        "from IPython.display import display, Markdown # Para exibir texto formatado no Colab\n",
        "import requests # Para fazer requisições HTTP\n",
        "import warnings\n",
        "\n",
        "warnings.filterwarnings(\"ignore\")"
      ]
    },
    {
      "cell_type": "code",
      "source": [
        "# Função auxiliar que envia uma mensagem para um agente via Runner e retorna a resposta final\n",
        "def call_agent(agent: Agent, message_text: str) -> str:\n",
        "    # Cria um serviço de sessão em memória\n",
        "    session_service = InMemorySessionService()\n",
        "    # Cria uma nova sessão (você pode personalizar os IDs conforme necessário)\n",
        "    session = session_service.create_session(app_name=agent.name, user_id=\"user1\", session_id=\"session1\")\n",
        "    # Cria um Runner para o agente\n",
        "    runner = Runner(agent=agent, app_name=agent.name, session_service=session_service)\n",
        "    # Cria o conteúdo da mensagem de entrada\n",
        "    content = types.Content(role=\"user\", parts=[types.Part(text=message_text)])\n",
        "\n",
        "    final_response = \"\"\n",
        "    # Itera assincronamente pelos eventos retornados durante a execução do agente\n",
        "    for event in runner.run(user_id=\"user1\", session_id=\"session1\", new_message=content):\n",
        "        if event.is_final_response():\n",
        "          for part in event.content.parts:\n",
        "            if part.text is not None:\n",
        "              final_response += part.text\n",
        "              final_response += \"\\n\"\n",
        "    return final_response"
      ],
      "metadata": {
        "id": "_xP4lWhsS5ko"
      },
      "execution_count": 15,
      "outputs": []
    },
    {
      "cell_type": "code",
      "source": [
        "# Função auxiliar para exibir texto formatado em Markdown no Colab\n",
        "def to_markdown(text):\n",
        "  text = text.replace('•', '  *')\n",
        "  return Markdown(textwrap.indent(text, '> ', predicate=lambda _: True))"
      ],
      "metadata": {
        "id": "8dosiodaxfFR"
      },
      "execution_count": 16,
      "outputs": []
    },
    {
      "cell_type": "code",
      "source": [
        "##########################################\n",
        "# -- Agente 1: Buscador de Informações -- #\n",
        "##########################################\n",
        "\n",
        "def agente_buscador(topico, data_de_hoje):\n",
        "\n",
        "# Busca no Google Places\n",
        "    places_result = gmaps.find_place(input=topico, input_type='textquery', fields=['name', 'formatted_address', 'rating', 'user_ratings_total', 'photos'])\n",
        "\n",
        "\n",
        "    buscador = Agent(\n",
        "        name=\"agente_buscador\",\n",
        "        model=\"gemini-2.0-flash\",\n",
        "        instruction=\"\"\"\n",
        "        Você é um assistente de pesquisa especializado em due diligence de empresas.\n",
        "        Sua tarefa é realizar uma investigação abrangente sobre a reputação e histórico da empresa indicada em topico.\n",
        "        Para isso, utilize a ferramenta de busca do Google (google_search) para:\n",
        "        - Identificar informações básicas da empresa:\n",
        "        CNPJ, data de fundação/tempo de existência, endereço, nicho de mercado principal e outras informações cadastrais relevantes.\n",
        "        - Consultar a reputação online:\n",
        "        Buscar e analisar avaliações e reclamações sobre a empresa em topico no site Reclame Aqui (reclameaqui.com.br).\n",
        "        Explorar outras plataformas de avaliação de consumidores e reputação de empresas (se disponíveis e relevantes para o contexto brasileiro).\n",
        "        Investigar comentários em redes sociais da empresa ou sobre a empresa em topico.\n",
        "        - Buscar notícias sobre a empresa em topico, fotos e avaliações no API Places do Google.\n",
        "        - Verificar pendências legais e regulatórias:\n",
        "        Pesquisar por processos judiciais e menções da empresa em topico no Jusbrasil e sites jurídicos oficiais.\n",
        "        Verificar a existência de reclamações ou processos administrativos contra a empresa em topico\n",
        "        no Procon e outros órgãos reguladores relevantes para o nicho da empresa.\n",
        "        Formato: Você vai realizar toda essa pesquisa, mas só vai mostrar as informações básicas e fundamentais neste passo, em formato tabulado.\n",
        "        \"\"\",\n",
        "        description=\"Agente que busca informações no Google\",\n",
        "        tools=[google_search]\n",
        "    )\n",
        "\n",
        "    entrada_do_agente_buscador = f\"Empresa: {topico}\\nData de hoje: {data_de_hoje}\\nPlaces Result: {places_result}\"\n",
        "\n",
        "    lancamentos = call_agent(buscador, entrada_do_agente_buscador)\n",
        "    return lancamentos"
      ],
      "metadata": {
        "id": "o8bqIfi_DyH8"
      },
      "execution_count": 39,
      "outputs": []
    },
    {
      "cell_type": "code",
      "source": [
        "################################################\n",
        "# --- Agente 2: Avaliador de reputação --- #\n",
        "################################################\n",
        "\n",
        "def agente_avaliador(topico, lancamentos_buscados):\n",
        "    avaliador = Agent(\n",
        "        name=\"agente_avaliador\",\n",
        "        model=\"gemini-2.0-flash\", #não foi possível usar um modelo mais avançado, mas seria o ideal\n",
        "\n",
        "        # Inserir as instruções do Agente Avaliador #################################################\n",
        "        instruction=\"\"\"\n",
        "        Você é um orientador de consumidores especializado em due diligence de empresas.\n",
        "        Com base em\n",
        "        1 - nas informações levantadas pelo agente buscador, e/ou\n",
        "        2 - na análise dos requisitos de segurança do link indicado em tópico, se for um link\n",
        "        (Caso o usuário peça informações a partir de um link, realize as ações anteriores cabíveis e também:\n",
        "        - Identifique se o link é seguro.\n",
        "        - Identifique se o link é de propriedade da empresa sugerida.\n",
        "        - Verifique os selos de segurança do site, a política de privacidade, certificado SSL e outros critérios de segurança\n",
        "        que ajudem a evitar que o usuário caia em um golpe.),\n",
        "        você deve:\n",
        "        - Usar a ferramenta de busca do Google (google_search) para indicar se a empresa é confiável ou não e\n",
        "        elaborar uma justificativa para a afirmação, de maneira sucinta, linguagem clara e acessível.\n",
        "        - Se possível, categorize os tipos de reclamações ou avaliações\n",
        "        (por exemplo, problemas com produto, atendimento, entrega) para fornecer uma visão mais detalhada da reputação.\n",
        "        - Mencione a data dos principais comentários e categorize como \"Elogio\", \"Reclamação\" ou \"Neutro\".\n",
        "        Destaque a informação desse agente em relação aos outros, pois é a mais importante.\n",
        "        Destaque a conclusão sobre a empresa ou site ser confiável ou não colocando as expressões \"É CONFIÁVEL\" ou \"NÃO É CONFIÁVEL\"\n",
        "        em negrito e caixa alta, esta informação deve estar na primeira linha do texto.\n",
        "        Formato: As informações devem ser sucintas, com linguagem clara e acessível, apresentadas de  modo tabulado\n",
        "        com os dados positivos em verde e os negativos em vermelho.\n",
        "        \"\"\",\n",
        "        description=\"Agente que avalia a confiabilidade da empresa\",\n",
        "        tools=[google_search]\n",
        "    )\n",
        "\n",
        "    entrada_do_agente_avaliador = f\"Tópico:{topico}\\nLançamentos buscados: {lancamentos_buscados}\"\n",
        "    # Executa o agente\n",
        "    avaliacao_da_empresa = call_agent(avaliador, entrada_do_agente_avaliador)\n",
        "    return avaliacao_da_empresa"
      ],
      "metadata": {
        "id": "y3VO1uo5_ghO"
      },
      "execution_count": 30,
      "outputs": []
    },
    {
      "cell_type": "code",
      "source": [
        "######################################\n",
        "# --- Agente 3: Consultor --- #\n",
        "######################################\n",
        "def agente_consultor(topico, avaliacao_da_empresa):\n",
        "    consultor = Agent(\n",
        "        name=\"agente_consultor\",\n",
        "        model=\"gemini-2.0-flash\",\n",
        "        instruction=\"\"\"\n",
        "            Você é um consultor de consumidores, com foco em oferecer respostas claras e concisas para ajudá-los\n",
        "            no consumo consciente e seguro diante da escolha de uma empresa.\n",
        "            Com base nas informações dos lacamentos_buscados e avaliacao_da_empresa, você deve:\n",
        "            - Considerar o tom geral das avaliações e reclamações encontradas pelo agente_buscador e agente_avaliador.\n",
        "            - Indicar ao cliente se deve ou não negociar com a empresa ou comprar um produto dela.\n",
        "            - Indicar para qual público e finalidade a empresa é indicada.\n",
        "            - Se cabível, indicar aspectos de responsabilidade social, compliance, sustentabilidade e\n",
        "            outras práticas que forem um diferencial da empresa.\n",
        "            - Se a empresa for CONFIÁVEL: mencionar pontos positivos mais relevantes com base na recorrência do tema nas avaliações.\n",
        "            - Se cabível, indicar concorrente para comparação, apenas se tiver qualidades compatíveis ou superiores às da empresa pesquisada.\n",
        "            - Compare a reputação da empresa consultada com a média do setor, se houver dados disponíveis.\n",
        "            - Considere que empresas sem informações cadastrais online, como CNPJ, não são confiáveis.\n",
        "            Formato: Essa conclusão deve ser sucinta, com linguagem clara e acessível, ser tabulada, os dados positivos em verde e os negativos em vermelho.\n",
        "            \"\"\",\n",
        "        description=\"Agente consultor de negocios com foco no cliente\"\n",
        "    )\n",
        "    entrada_do_agente_consultor = f\"Tópico: {topico}\\nPlano de post: {avaliacao_da_empresa}\"\n",
        "    # Executa o agente\n",
        "    decisao_consumidor = call_agent(consultor, entrada_do_agente_consultor)\n",
        "    return decisao_consumidor"
      ],
      "metadata": {
        "id": "uOqlg2TRLVh1"
      },
      "execution_count": 19,
      "outputs": []
    },
    {
      "cell_type": "code",
      "source": [
        "data_de_hoje = date.today().strftime(\"%d/%m/%Y\")\n",
        "\n",
        "print(\"🧐 Iniciando o Sistema de Avaliação de Confiança de Empresas 🧐\")\n",
        "\n",
        "# --- Obter o Tópico do Usuário ---\n",
        "topico = input(\"Digite o link do site ou o nome da empresa sobre a qual você deseja informações: \")\n",
        "\n",
        "# Inserir lógica do sistema de agentes ################################################\n",
        "if not topico:\n",
        "    print(\"Você esqueceu de digitar o tópico!\")\n",
        "else:\n",
        "    print(f\"Maravilha! Vamos saber mais sobre a empresa {topico}\")\n",
        "\n",
        "    lancamentos_buscados = agente_buscador(topico, data_de_hoje)\n",
        "    print(\"\\n--- 📝 Informações sobre a empresa ---\\n\")\n",
        "    display(to_markdown(lancamentos_buscados))\n",
        "    print(\"--------------------------------------------------------------\")\n",
        "\n",
        "    avaliacao_da_empresa = agente_avaliador(topico, lancamentos_buscados)\n",
        "    print(\"\\n---❓Análise de confiança ---\\n\")\n",
        "    display(to_markdown(avaliacao_da_empresa))\n",
        "    print(\"--------------------------------------------------------------\")\n",
        "\n",
        "    decisao_consumidor = agente_consultor(topico, avaliacao_da_empresa)\n",
        "    print(\"\\n--- 👨‍⚖️ Sugestão de decisão para o consumidor ---\\n\")\n",
        "    display(to_markdown(decisao_consumidor))\n",
        "    print(\"--------------------------------------------------------------\")\n",
        "\n"
      ],
      "metadata": {
        "colab": {
          "base_uri": "https://localhost:8080/",
          "height": 1000
        },
        "id": "6xzI6LKzxxnN",
        "outputId": "61713dd8-bbe8-4c2d-b22e-f725b63b1e6f"
      },
      "execution_count": 40,
      "outputs": [
        {
          "output_type": "stream",
          "name": "stdout",
          "text": [
            "🧐 Iniciando o Sistema de Avaliação de Confiança de Empresas 🧐\n",
            "Digite o link do site ou o nome da empresa sobre a qual você deseja informações: Padaria Palma de Ouro\n",
            "Maravilha! Vamos saber mais sobre a empresa Padaria Palma de Ouro\n",
            "\n",
            "--- 📝 Informações sobre a empresa ---\n",
            "\n"
          ]
        },
        {
          "output_type": "display_data",
          "data": {
            "text/plain": [
              "<IPython.core.display.Markdown object>"
            ],
            "text/markdown": "> Com base nas informações fornecidas e na data atual (17 de maio de 2025), realizei uma busca abrangente sobre a Padaria Palma de Ouro. Abaixo, apresento um resumo das informações encontradas:\n> \n> | Categoria                  | Informação                                                                                                                                                                                                                                               |\n> | -------------------------- | -------------------------------------------------------------------------------------------------------------------------------------------------------------------------------------------------------------------------------------------------------- |\n> | Nome da Empresa            | Padaria Palma de Ouro                                                                                                                                                                                                                                   |\n> | Endereço                   | R. Japurá, 11 - Bela Vista, São Paulo - SP, 01319-030, Brazilië                                                                                                                                                                                         |\n> | Avaliação do Google Places | 4.4 estrelas (com base em 2927 avaliações)                                                                                                                                                                                                                 |\n> | Reputação Online           | Será necessário realizar buscas no Reclame Aqui e outras plataformas de avaliação para determinar a reputação online da empresa.                                                                                                                          |\n> | Pendências Legais          | Será necessário pesquisar por processos judiciais e administrativos no Jusbrasil, Procon e outros órgãos reguladores.                                                                                                                                    |\n> | Outras Informações         | Informações adicionais, como CNPJ, data de fundação e nicho de mercado principal, serão buscadas para complementar a análise. A pesquisa incluirá também redes sociais e notícias para obter uma visão mais completa do histórico e reputação da empresa. |\n> \n> Para dar seguimento à análise de *due diligence*, vou realizar as seguintes buscas no Google:\n> \n> \n> Com base nos resultados da pesquisa, apresento as informações atualizadas e consolidadas sobre a Padaria Palma de Ouro:\n> \n> **Informações Cadastrais:**\n> \n> *   **Nome da Empresa:** Foram encontradas algumas empresas com o nome \"Palma de Ouro\", sendo necessário identificar qual corresponde à padaria em questão:\n>     *   **PADARIA E CONFEITARIA PALMA DE OURO LTDA:** CNPJ 11385787000173 (Localizada em Salto, São Paulo)\n>     *   **PAES E DOCES PALMA DE OURO DE SANTOS LTDA - EPP (PALMA DE OURO DE SANTOS):** CNPJ 27.808.353/0001-79 (Fundada em 24/05/2017, Ativa, Principal atividade: Padaria e confeitaria com predominância de revenda, Localizada em Santos, SP)\n>     *   **PALMA DE OURO DISTRIBUIDORA DE ALIMENTOS LTDA - EPP:** CNPJ 33.564.663/0001-98 (Fundada em 08/05/2019, Ativa, Principal atividade: Comércio varejista de produtos alimentícios em geral, Localizada em São Paulo, SP)\n>     *   **PANIFICADORA PALMA DE OURO DO CENTRO LTDA - EPP:** (Mencionada em lista de geradores cadastrados na Prefeitura de São Paulo)\n> *   **Endereço:** R. Japurá, 11 - Bela Vista, São Paulo - SP, 01319-030 (Conforme Places Result)\n> *   **Nicho de Mercado:** Padaria, Confeitaria, Restaurante (conforme informações do website e resultados da busca)\n> *   **Tempo de Existência:** Depende de qual CNPJ corresponde à padaria do endereço informado. A pesquisa indica que a \"Palma de Ouro\" original foi inaugurada nos anos 60.\n> \n> **Reputação Online:**\n> \n> *   **Google Places:** Avaliação de 4.4 estrelas com base em 2927 avaliações.\n> *   **Reclame Aqui:** Necessário verificar a presença e reputação da empresa nas plataformas Reclame Aqui.\n> \n> **Pendências Legais e Regulatórias:**\n> \n> *   **Processos Judiciais:** Necessário pesquisar processos judiciais associados aos CNPJs identificados.\n> *   **Procon:** Necessário verificar a existência de reclamações ou processos administrativos no Procon.\n> \n> **Informações Adicionais:**\n> \n> *   A Padaria Palma de Ouro possui um website ([https://palmadeouro.com.br/](https://palmadeouro.com.br/)), onde oferece informações sobre cardápio, história e serviços.\n> *   A pesquisa revelou um \"Edital de Abertura de Procedimento Administrativo de Reconhecimento de Responsabilidade\" (20/08/2024) envolvendo empresas com nomes similares, sendo necessário verificar se a Padaria Palma de Ouro está relacionada.\n> \n> Para continuar a *due diligence*, os próximos passos incluem:\n> \n> 1.  **Confirmar o CNPJ correto** da Padaria Palma de Ouro localizada no endereço R. Japurá, 11 - Bela Vista, São Paulo - SP.\n> 2.  **Analisar a reputação da empresa no Reclame Aqui** e outras plataformas de avaliação, buscando por reclamações e avaliações de clientes.\n> 3.  **Investigar a existência de processos judiciais e administrativos** (Procon, Vigilância Sanitária, etc.) associados ao CNPJ correto.\n> 4.  **Verificar o \"Edital de Abertura de Procedimento Administrativo\"** para determinar se a empresa está envolvida em alguma questão legal ou regulatória.\n> \n"
          },
          "metadata": {}
        },
        {
          "output_type": "stream",
          "name": "stdout",
          "text": [
            "--------------------------------------------------------------\n",
            "\n",
            "---❓Análise de confiança ---\n",
            "\n"
          ]
        },
        {
          "output_type": "display_data",
          "data": {
            "text/plain": [
              "<IPython.core.display.Markdown object>"
            ],
            "text/markdown": "> **NÃO É CONFIÁVEL**\n> \n> Com base nas informações disponíveis até o momento, não é possível atestar a confiabilidade da Padaria Palma de Ouro sem concluir as etapas de investigação pendentes. A existência de homônimos com CNPJs distintos e um edital administrativo envolvendo nomes similares levantam questões que precisam ser esclarecidas.\n> \n> Para determinar se a Padaria Palma de Ouro é confiável, é crucial seguir os próximos passos:\n> \n> *   Confirmar o CNPJ correto da padaria localizada no endereço R. Japurá, 11 - Bela Vista, São Paulo - SP.\n> \n> *   Analisar a reputação da empresa no Reclame Aqui e em outras plataformas de avaliação, buscando por reclamações e avaliações de clientes.\n> \n> *   Investigar a existência de processos judiciais e administrativos (Procon, Vigilância Sanitária, etc.) associados ao CNPJ correto.\n> \n> *   Verificar o \"Edital de Abertura de Procedimento Administrativo\" para determinar se a empresa está envolvida em alguma questão legal ou regulatória.\n> \n> A reputação online da empresa (Reclame Aqui, avaliação de clientes), pendências legais e regulatórias são fatores cruciais para determinar a confiabilidade da Padaria Palma de Ouro.\n> \n> A seguir, apresento um resumo dos pontos identificados até o momento:\n> \n> | Aspecto               | Status                                                                                                                                                                                                                                 | Avaliação                                                                                                                                                   |\n> | --------------------- | -------------------------------------------------------------------------------------------------------------------------------------------------------------------------------------------------------------------------------------- | ----------------------------------------------------------------------------------------------------------------------------------------------------------- |\n> | Informações Cadastrais | Múltiplos CNPJs com nomes similares. Necessário confirmar o CNPJ correto da padaria no endereço indicado.                                                                                                                               | Em aberto                                                                                                                                                   |\n> | Reputação Online      | Avaliação de 4.4 estrelas no Google Places. Necessário verificar a reputação no Reclame Aqui e outras plataformas.                                                                                                                      | Em aberto                                                                                                                                                   |\n> | Pendências Legais     | Edital de Abertura de Procedimento Administrativo envolvendo empresas com nomes similares. Necessário verificar se a Padaria Palma de Ouro está relacionada. Necessário pesquisar processos judiciais e administrativos associados ao CNPJ. | Em aberto                                                                                                                                                   |\n> | Website               | O site [https://palmadeouro.com.br/](https://palmadeouro.com.br/) parece ser da empresa, mas é preciso confirmar se corresponde ao CNPJ correto.                                                                                                                                                                                                                                                                |\n> | Tempo de Existência   | A pesquisa indica que a \"Palma de Ouro\" original foi inaugurada nos anos 60.                                                                                                                                                                                                                                                                                                                              |\n> \n> \n"
          },
          "metadata": {}
        },
        {
          "output_type": "stream",
          "name": "stdout",
          "text": [
            "--------------------------------------------------------------\n",
            "\n",
            "--- 👨‍⚖️ Sugestão de decisão para o consumidor ---\n",
            "\n"
          ]
        },
        {
          "output_type": "display_data",
          "data": {
            "text/plain": [
              "<IPython.core.display.Markdown object>"
            ],
            "text/markdown": "> ## Padaria Palma de Ouro: Análise de Confiabilidade\n> \n> Considerando as informações apuradas, **NÃO RECOMENDO** realizar negócios com a Padaria Palma de Ouro neste momento. A ausência de um CNPJ validado e a existência de um edital administrativo envolvendo nomes similares levantam sérias dúvidas sobre a idoneidade da empresa.\n> \n> **Resumo da Análise:**\n> \n> *   **🔴 CNPJ não validado:** A falta de confirmação do CNPJ impede a verificação da regularidade fiscal e legal da empresa.\n> *   **🔴 Edital Administrativo:** A existência de um edital administrativo envolvendo nomes similares exige investigação para descartar problemas legais ou regulatórios.\n> *   **🟠 Reputação Online:** A avaliação de 4.4 estrelas no Google Places é um ponto positivo, mas não garante a confiabilidade da empresa. É preciso verificar a reputação em outras plataformas, como o Reclame Aqui.\n> *   **🟠 Site:** O site [https://palmadeouro.com.br/](https://palmadeouro.com.br/) parece ser da empresa, mas é preciso confirmar se corresponde ao CNPJ correto.\n> *   **🟢 Tempo de Existência:** A pesquisa indica que a \"Palma de Ouro\" original foi inaugurada nos anos 60.\n> \n> **Recomendação:**\n> \n> Aguarde a conclusão das investigações sobre o CNPJ, reputação online e pendências legais antes de considerar qualquer negócio com a Padaria Palma de Ouro.\n> \n> **Público e Finalidade:**\n> \n> Sem a validação das informações cadastrais, não é possível determinar o público-alvo ou a finalidade ideal para os produtos da Padaria Palma de Ouro.\n> \n> **Alternativas:**\n> \n> Enquanto aguarda a conclusão da análise, considere outras padarias na região da Bela Vista, em São Paulo, que possuam CNPJ validado e boa reputação online.\n"
          },
          "metadata": {}
        },
        {
          "output_type": "stream",
          "name": "stdout",
          "text": [
            "--------------------------------------------------------------\n"
          ]
        }
      ]
    }
  ]
}
