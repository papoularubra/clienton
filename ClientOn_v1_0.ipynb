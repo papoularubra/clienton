{
  "nbformat": 4,
  "nbformat_minor": 0,
  "metadata": {
    "colab": {
      "provenance": [],
      "include_colab_link": true
    },
    "kernelspec": {
      "name": "python3",
      "display_name": "Python 3"
    },
    "language_info": {
      "name": "python"
    }
  },
  "cells": [
    {
      "cell_type": "markdown",
      "metadata": {
        "id": "view-in-github",
        "colab_type": "text"
      },
      "source": [
        "<a href=\"https://colab.research.google.com/github/papoularubra/clienton/blob/main/ClientOn_v1_0.ipynb\" target=\"_parent\"><img src=\"https://colab.research.google.com/assets/colab-badge.svg\" alt=\"Open In Colab\"/></a>"
      ]
    },
    {
      "cell_type": "code",
      "source": [
        "%pip -q install google-genai"
      ],
      "metadata": {
        "id": "UCCbECexLk_h"
      },
      "execution_count": 1,
      "outputs": []
    },
    {
      "cell_type": "code",
      "source": [
        "# Configura a API Key do Google Gemini\n",
        "\n",
        "import os\n",
        "from google.colab import userdata\n",
        "\n",
        "os.environ[\"GOOGLE_API_KEY\"] = userdata.get('GOOGLE_API_KEY')"
      ],
      "metadata": {
        "id": "NfCqHo1tLk8P"
      },
      "execution_count": 2,
      "outputs": []
    },
    {
      "cell_type": "code",
      "source": [
        "# Configura o cliente da SDK do Gemini\n",
        "\n",
        "from google import genai\n",
        "\n",
        "client = genai.Client()\n",
        "\n",
        "MODEL_ID = \"gemini-2.0-flash\""
      ],
      "metadata": {
        "id": "bV4w0H5TLk5g"
      },
      "execution_count": 3,
      "outputs": []
    },
    {
      "cell_type": "code",
      "source": [
        "# Instalar Framework de agentes do Google ################################################\n",
        "!pip install -q google-adk"
      ],
      "metadata": {
        "colab": {
          "base_uri": "https://localhost:8080/"
        },
        "id": "a1eRPalxEnj7",
        "outputId": "53393427-2dd8-494c-983c-68a8bb0e43dd"
      },
      "execution_count": 4,
      "outputs": [
        {
          "output_type": "stream",
          "name": "stdout",
          "text": [
            "\u001b[?25l   \u001b[90m━━━━━━━━━━━━━━━━━━━━━━━━━━━━━━━━━━━━━━━━\u001b[0m \u001b[32m0.0/1.2 MB\u001b[0m \u001b[31m?\u001b[0m eta \u001b[36m-:--:--\u001b[0m\r\u001b[2K   \u001b[91m━━━━━━━━━━━━━━━━━━━━━━━━━━\u001b[0m\u001b[91m╸\u001b[0m\u001b[90m━━━━━━━━━━━━━\u001b[0m \u001b[32m0.8/1.2 MB\u001b[0m \u001b[31m23.8 MB/s\u001b[0m eta \u001b[36m0:00:01\u001b[0m\r\u001b[2K   \u001b[90m━━━━━━━━━━━━━━━━━━━━━━━━━━━━━━━━━━━━━━━━\u001b[0m \u001b[32m1.2/1.2 MB\u001b[0m \u001b[31m19.8 MB/s\u001b[0m eta \u001b[36m0:00:00\u001b[0m\n",
            "\u001b[?25h\u001b[?25l   \u001b[90m━━━━━━━━━━━━━━━━━━━━━━━━━━━━━━━━━━━━━━━━\u001b[0m \u001b[32m0.0/232.1 kB\u001b[0m \u001b[31m?\u001b[0m eta \u001b[36m-:--:--\u001b[0m\r\u001b[2K   \u001b[90m━━━━━━━━━━━━━━━━━━━━━━━━━━━━━━━━━━━━━━━━\u001b[0m \u001b[32m232.1/232.1 kB\u001b[0m \u001b[31m12.0 MB/s\u001b[0m eta \u001b[36m0:00:00\u001b[0m\n",
            "\u001b[?25h\u001b[?25l   \u001b[90m━━━━━━━━━━━━━━━━━━━━━━━━━━━━━━━━━━━━━━━━\u001b[0m \u001b[32m0.0/95.2 kB\u001b[0m \u001b[31m?\u001b[0m eta \u001b[36m-:--:--\u001b[0m\r\u001b[2K   \u001b[90m━━━━━━━━━━━━━━━━━━━━━━━━━━━━━━━━━━━━━━━━\u001b[0m \u001b[32m95.2/95.2 kB\u001b[0m \u001b[31m5.4 MB/s\u001b[0m eta \u001b[36m0:00:00\u001b[0m\n",
            "\u001b[2K   \u001b[90m━━━━━━━━━━━━━━━━━━━━━━━━━━━━━━━━━━━━━━━━\u001b[0m \u001b[32m217.1/217.1 kB\u001b[0m \u001b[31m10.5 MB/s\u001b[0m eta \u001b[36m0:00:00\u001b[0m\n",
            "\u001b[2K   \u001b[90m━━━━━━━━━━━━━━━━━━━━━━━━━━━━━━━━━━━━━━━━\u001b[0m \u001b[32m334.1/334.1 kB\u001b[0m \u001b[31m16.5 MB/s\u001b[0m eta \u001b[36m0:00:00\u001b[0m\n",
            "\u001b[2K   \u001b[90m━━━━━━━━━━━━━━━━━━━━━━━━━━━━━━━━━━━━━━━━\u001b[0m \u001b[32m125.1/125.1 kB\u001b[0m \u001b[31m6.3 MB/s\u001b[0m eta \u001b[36m0:00:00\u001b[0m\n",
            "\u001b[2K   \u001b[90m━━━━━━━━━━━━━━━━━━━━━━━━━━━━━━━━━━━━━━━━\u001b[0m \u001b[32m65.8/65.8 kB\u001b[0m \u001b[31m3.4 MB/s\u001b[0m eta \u001b[36m0:00:00\u001b[0m\n",
            "\u001b[2K   \u001b[90m━━━━━━━━━━━━━━━━━━━━━━━━━━━━━━━━━━━━━━━━\u001b[0m \u001b[32m119.0/119.0 kB\u001b[0m \u001b[31m6.6 MB/s\u001b[0m eta \u001b[36m0:00:00\u001b[0m\n",
            "\u001b[2K   \u001b[90m━━━━━━━━━━━━━━━━━━━━━━━━━━━━━━━━━━━━━━━━\u001b[0m \u001b[32m194.9/194.9 kB\u001b[0m \u001b[31m10.9 MB/s\u001b[0m eta \u001b[36m0:00:00\u001b[0m\n",
            "\u001b[2K   \u001b[90m━━━━━━━━━━━━━━━━━━━━━━━━━━━━━━━━━━━━━━━━\u001b[0m \u001b[32m62.5/62.5 kB\u001b[0m \u001b[31m3.1 MB/s\u001b[0m eta \u001b[36m0:00:00\u001b[0m\n",
            "\u001b[2K   \u001b[90m━━━━━━━━━━━━━━━━━━━━━━━━━━━━━━━━━━━━━━━━\u001b[0m \u001b[32m103.3/103.3 kB\u001b[0m \u001b[31m4.5 MB/s\u001b[0m eta \u001b[36m0:00:00\u001b[0m\n",
            "\u001b[2K   \u001b[90m━━━━━━━━━━━━━━━━━━━━━━━━━━━━━━━━━━━━━━━━\u001b[0m \u001b[32m44.4/44.4 kB\u001b[0m \u001b[31m2.1 MB/s\u001b[0m eta \u001b[36m0:00:00\u001b[0m\n",
            "\u001b[2K   \u001b[90m━━━━━━━━━━━━━━━━━━━━━━━━━━━━━━━━━━━━━━━━\u001b[0m \u001b[32m72.0/72.0 kB\u001b[0m \u001b[31m3.6 MB/s\u001b[0m eta \u001b[36m0:00:00\u001b[0m\n",
            "\u001b[?25h"
          ]
        }
      ]
    },
    {
      "cell_type": "code",
      "execution_count": 55,
      "metadata": {
        "id": "aePV2bdfDeoW"
      },
      "outputs": [],
      "source": [
        "from google.adk.agents import Agent\n",
        "from google.adk.runners import Runner\n",
        "from google.adk.sessions import InMemorySessionService\n",
        "from google.adk.tools import google_search\n",
        "from google.genai import types  # Para criar conteúdos (Content e Part)\n",
        "from datetime import date\n",
        "import textwrap # Para formatar melhor a saída de texto\n",
        "from IPython.display import display, Markdown # Para exibir texto formatado no Colab\n",
        "import requests # Para fazer requisições HTTP\n",
        "import warnings\n",
        "\n",
        "warnings.filterwarnings(\"ignore\")"
      ]
    },
    {
      "cell_type": "code",
      "source": [
        "# Função auxiliar que envia uma mensagem para um agente via Runner e retorna a resposta final\n",
        "def call_agent(agent: Agent, message_text: str) -> str:\n",
        "    # Cria um serviço de sessão em memória\n",
        "    session_service = InMemorySessionService()\n",
        "    # Cria uma nova sessão (você pode personalizar os IDs conforme necessário)\n",
        "    session = session_service.create_session(app_name=agent.name, user_id=\"user1\", session_id=\"session1\")\n",
        "    # Cria um Runner para o agente\n",
        "    runner = Runner(agent=agent, app_name=agent.name, session_service=session_service)\n",
        "    # Cria o conteúdo da mensagem de entrada\n",
        "    content = types.Content(role=\"user\", parts=[types.Part(text=message_text)])\n",
        "\n",
        "    final_response = \"\"\n",
        "    # Itera assincronamente pelos eventos retornados durante a execução do agente\n",
        "    for event in runner.run(user_id=\"user1\", session_id=\"session1\", new_message=content):\n",
        "        if event.is_final_response():\n",
        "          for part in event.content.parts:\n",
        "            if part.text is not None:\n",
        "              final_response += part.text\n",
        "              final_response += \"\\n\"\n",
        "    return final_response"
      ],
      "metadata": {
        "id": "_xP4lWhsS5ko"
      },
      "execution_count": 6,
      "outputs": []
    },
    {
      "cell_type": "code",
      "source": [
        "# Função auxiliar para exibir texto formatado em Markdown no Colab\n",
        "def to_markdown(text):\n",
        "  text = text.replace('•', '  *')\n",
        "  return Markdown(textwrap.indent(text, '> ', predicate=lambda _: True))"
      ],
      "metadata": {
        "id": "8dosiodaxfFR"
      },
      "execution_count": 7,
      "outputs": []
    },
    {
      "cell_type": "code",
      "source": [
        "##########################################\n",
        "# -- Agente 1: Buscador de Informações -- #\n",
        "##########################################\n",
        "def agente_buscador(topico, data_de_hoje):\n",
        "\n",
        "    buscador = Agent(\n",
        "        name=\"agente_buscador\",\n",
        "        model=\"gemini-2.0-flash\",\n",
        "        instruction=\"\"\"\n",
        "        Você é um assistente de pesquisa especializado em due diligence de empresas.\n",
        "        Sua tarefa é realizar uma investigação abrangente sobre a reputação e histórico da empresa indicada em topico.\n",
        "        Para isso, utilize a ferramenta de busca do Google (google_search) para:\n",
        "        - Identificar informações básicas da empresa:\n",
        "        CNPJ, data de fundação/tempo de existência, endereço, nicho de mercado principal e outras informações cadastrais relevantes.\n",
        "        - Consultar a reputação online:\n",
        "        Buscar e analisar avaliações e reclamações sobre a empresa em topico no site Reclame Aqui (reclameaqui.com.br).\n",
        "        Explorar outras plataformas de avaliação de consumidores e reputação de empresas (se disponíveis e relevantes para o contexto brasileiro).\n",
        "        Investigar comentários em redes sociais da empresa ou sobre a empresa em topico.\n",
        "        - Buscar notícias sobre a empresa em topico, fotos e avaliações no API Places do Google.\n",
        "        - Verificar pendências legais e regulatórias:\n",
        "        Pesquisar por processos judiciais e menções da empresa em topico no Jusbrasil e sites jurídicos oficiais.\n",
        "        Verificar a existência de reclamações ou processos administrativos contra a empresa em topico\n",
        "        no Procon e outros órgãos reguladores relevantes para o nicho da empresa.\n",
        "        Formato: Você vai realizar toda essa pesquisa, mas só vai mostrar as informações básicas e fundamentais neste passo, em formato tabulado.\n",
        "        \"\"\",\n",
        "        description=\"Agente que busca informações no Google\",\n",
        "        tools=[google_search]\n",
        "    )\n",
        "\n",
        "    entrada_do_agente_buscador = f\"Empresa: {topico}\\nData de hoje: {data_de_hoje}\"\n",
        "\n",
        "    lancamentos = call_agent(buscador, entrada_do_agente_buscador)\n",
        "    return lancamentos"
      ],
      "metadata": {
        "id": "o8bqIfi_DyH8"
      },
      "execution_count": 89,
      "outputs": []
    },
    {
      "cell_type": "code",
      "source": [
        "################################################\n",
        "# --- Agente 2: Avaliador de reputação --- #\n",
        "################################################\n",
        "def agente_avaliador(topico, lancamentos_buscados):\n",
        "    avaliador = Agent(\n",
        "        name=\"agente_avaliador\",\n",
        "        model=\"gemini-2.0-flash\", #não foi possível usar um modelo mais avançado, mas seria o ideal\n",
        "\n",
        "        # Inserir as instruções do Agente Avaliador #################################################\n",
        "        instruction=\"\"\"\n",
        "        Você é um orientador de consumidores especializado em due diligence de empresas.\n",
        "        Com base em\n",
        "        1 - nas informações levantadas pelo agente buscador, e/ou\n",
        "        2 - na análise dos requisitos de segurança do link indicado em tópico, se for um link\n",
        "        (Caso o usuário peça informações a partir de um link, realize as ações anteriores cabíveis e também:\n",
        "        - Identifique se o link é seguro.\n",
        "        - Identifique se o link é de propriedade da empresa sugerida.\n",
        "        - Verifique os selos de segurança do site, a política de privacidade, certificado SSL e outros critérios de segurança\n",
        "        que ajudem a evitar que o usuário caia em um golpe.),\n",
        "        você deve:\n",
        "        - Usar a ferramenta de busca do Google (google_search) para indicar se a empresa é confiável ou não e\n",
        "        elaborar uma justificativa para a afirmação, de maneira sucinta, linguagem clara e acessível.\n",
        "        - Se possível, categorize os tipos de reclamações ou avaliações\n",
        "        (por exemplo, problemas com produto, atendimento, entrega) para fornecer uma visão mais detalhada da reputação.\n",
        "        - Mencione a data dos principais comentários e categorize como \"Elogio\", \"Reclamação\" ou \"Neutro\".\n",
        "        Destaque a informação desse agente em relação aos outros, pois é a mais importante.\n",
        "        Destaque a conclusão sobre a empresa ou site ser confiável ou não colocando as expressões \"É CONFIÁVEL\" ou \"NÃO É CONFIÁVEL\"\n",
        "        em negrito e caixa alta, esta informação deve estar na primeira linha do texto.\n",
        "        Formato: As informações devem ser sucintas, com linguagem clara e acessível, apresentadas de  modo tabulado\n",
        "        com os dados positivos em verde e os negativos em vermelho.\n",
        "        \"\"\",\n",
        "        description=\"Agente que avalia a confiabilidade da empresa\",\n",
        "        tools=[google_search]\n",
        "    )\n",
        "\n",
        "    entrada_do_agente_avaliador = f\"Tópico:{topico}\\nLançamentos buscados: {lancamentos_buscados}\"\n",
        "    # Executa o agente\n",
        "    avaliacao_da_empresa = call_agent(avaliador, entrada_do_agente_avaliador)\n",
        "    return avaliacao_da_empresa"
      ],
      "metadata": {
        "id": "y3VO1uo5_ghO"
      },
      "execution_count": 93,
      "outputs": []
    },
    {
      "cell_type": "code",
      "source": [
        "######################################\n",
        "# --- Agente 3: Consultor --- #\n",
        "######################################\n",
        "def agente_consultor(topico, avaliacao_da_empresa):\n",
        "    consultor = Agent(\n",
        "        name=\"agente_consultor\",\n",
        "        model=\"gemini-2.0-flash\",\n",
        "        instruction=\"\"\"\n",
        "            Você é um consultor de consumidores, com foco em oferecer respostas claras e concisas para ajudá-los\n",
        "            no consumo consciente e seguro diante da escolha de uma empresa.\n",
        "            Com base nas informações dos lacamentos_buscados e avaliacao_da_empresa, você deve:\n",
        "            - Considerar o tom geral das avaliações e reclamações encontradas pelo agente_buscador e agente_avaliador.\n",
        "            - Indicar ao cliente se deve ou não negociar com a empresa ou comprar um produto dela.\n",
        "            - Indicar para qual público e finalidade a empresa é indicada.\n",
        "            - Se cabível, indicar aspectos de responsabilidade social, compliance, sustentabilidade e\n",
        "            outras práticas que forem um diferencial da empresa.\n",
        "            - Se a empresa for CONFIÁVEL: mencionar pontos positivos mais relevantes com base na recorrência do tema nas avaliações.\n",
        "            - Se cabível, indicar concorrente para comparação, apenas se tiver qualidades compatíveis ou superiores às da empresa pesquisada.\n",
        "            - Compare a reputação da empresa consultada com a média do setor, se houver dados disponíveis.\n",
        "            - Considere que empresas sem informações cadastrais online, como CNPJ, não são confiáveis.\n",
        "            Formato: Essa conclusão deve ser sucinta, com linguagem clara e acessível, ser tabulada, os dados positivos em verde e os negativos em vermelho.\n",
        "            \"\"\",\n",
        "        description=\"Agente consultor de negocios com foco no cliente\"\n",
        "    )\n",
        "    entrada_do_agente_consultor = f\"Tópico: {topico}\\nPlano de post: {avaliacao_da_empresa}\"\n",
        "    # Executa o agente\n",
        "    decisao_consumidor = call_agent(consultor, entrada_do_agente_consultor)\n",
        "    return decisao_consumidor"
      ],
      "metadata": {
        "id": "uOqlg2TRLVh1"
      },
      "execution_count": 91,
      "outputs": []
    },
    {
      "cell_type": "code",
      "source": [
        "data_de_hoje = date.today().strftime(\"%d/%m/%Y\")\n",
        "\n",
        "print(\"🧐 Iniciando o Sistema de Avaliação de Confiança de Empresas 🧐\")\n",
        "\n",
        "# --- Obter o Tópico do Usuário ---\n",
        "topico = input(\"Digite o link do site ou o nome da empresa sobre a qual você deseja informações: \")\n",
        "\n",
        "# Inserir lógica do sistema de agentes ################################################\n",
        "if not topico:\n",
        "    print(\"Você esqueceu de digitar o tópico!\")\n",
        "else:\n",
        "    print(f\"Maravilha! Vamos saber mais sobre a empresa {topico}\")\n",
        "\n",
        "    lancamentos_buscados = agente_buscador(topico, data_de_hoje)\n",
        "    print(\"\\n--- 📝 Informações sobre a empresa ---\\n\")\n",
        "    display(to_markdown(lancamentos_buscados))\n",
        "    print(\"--------------------------------------------------------------\")\n",
        "\n",
        "    avaliacao_da_empresa = agente_avaliador(topico, lancamentos_buscados)\n",
        "    print(\"\\n---❓Análise de confiança ---\\n\")\n",
        "    display(to_markdown(avaliacao_da_empresa))\n",
        "    print(\"--------------------------------------------------------------\")\n",
        "\n",
        "    decisao_consumidor = agente_consultor(topico, avaliacao_da_empresa)\n",
        "    print(\"\\n--- 👨‍⚖️ Sugestão de decisão para o consumidor ---\\n\")\n",
        "    display(to_markdown(decisao_consumidor))\n",
        "    print(\"--------------------------------------------------------------\")\n",
        "\n",
        ""
      ],
      "metadata": {
        "colab": {
          "base_uri": "https://localhost:8080/",
          "height": 1000
        },
        "id": "6xzI6LKzxxnN",
        "outputId": "4297181d-76c3-49f7-cec7-5e37caef8854"
      },
      "execution_count": 94,
      "outputs": [
        {
          "output_type": "stream",
          "name": "stdout",
          "text": [
            "🧐 Iniciando o Sistema de Avaliação de Confiança de Empresas 🧐\n",
            "Digite o link do site ou o nome da empresa sobre a qual você deseja informações: Alura\n",
            "Maravilha! Vamos saber mais sobre a empresa Alura\n",
            "\n",
            "--- 📝 Informações sobre a empresa ---\n",
            "\n"
          ]
        },
        {
          "output_type": "display_data",
          "data": {
            "text/plain": [
              "<IPython.core.display.Markdown object>"
            ],
            "text/markdown": "> Ok, farei uma pesquisa completa sobre a Alura para verificar sua reputação e histórico. Aqui estão as informações básicas e fundamentais encontradas sobre a empresa, apresentadas em formato de tabela:\n> \n> \n> Com base nas informações encontradas, aqui está um resumo da Alura em formato de tabela:\n> \n>  | Informação | Detalhes |\n>  |---|---|\n>  | **CNPJ** | 05.555.382/0001-33 |\n>  | **Data de Fundação** | Aparentemente fundada antes de 2016, com diversas entidades (\"ALURA COMERCIO\" e \"ALURA APOIO ADMINISTRATIVO EMPRESARIAL\") fundadas em 2016 e 2024, respectivamente. A empresa principal já existia antes, como mostram notícias e artigos. |\n>  | **Endereço** | Não especificado nas fontes, mas a Alura Apoio Administrativo Empresarial Ltda - ME tem sede em Curitiba, PR. |\n>  | **Nicho de Mercado** | Educação em tecnologia online, oferecendo cursos em diversas áreas como programação, front-end, data science, UX design, entre outros. |\n>  | **Reputação no Reclame Aqui** | Considerada \"ÓTIMA\" com nota 7.6 de 10. |\n>  | **Notícias Recentes** |  Alura anuncia Adriano Almeida como novo CEO (Março 2025). Alura oferece cursos gratuitos em tecnologia (Janeiro 2025). |\n>  | **Faturamento** | Atingiu R$ 500 milhões em 2023 e espera alcançar R$ 1 bilhão em três anos. |\n> \n>  **Outras Informações Relevantes:**\n> \n>  *   A Alura faz parte de um ecossistema de educação em tecnologia que inclui a FIAP e PM3.\n>  *   A empresa oferece soluções corporativas (Alura Para Empresas) para capacitação em tecnologia.\n>  *   A Alura está expandindo sua atuação para o ensino superior em parceria com a FIAP.\n> \n>  Esta tabela fornece uma visão geral da Alura, com foco em informações básicas, reputação e histórico recente. Para uma análise mais aprofundada, seria necessário consultar diretamente o site Reclame Aqui e outras fontes para obter informações mais detalhadas sobre reclamações e avaliações de clientes.\n> \n"
          },
          "metadata": {}
        },
        {
          "output_type": "stream",
          "name": "stdout",
          "text": [
            "--------------------------------------------------------------\n",
            "\n",
            "---❓Análise de confiança ---\n",
            "\n"
          ]
        },
        {
          "output_type": "display_data",
          "data": {
            "text/plain": [
              "<IPython.core.display.Markdown object>"
            ],
            "text/markdown": "> **É CONFIÁVEL**\n> \n> Com base nas informações coletadas, a Alura aparenta ser uma empresa confiável, veja a justificativa:\n> \n> *   **Reputação:** A empresa tem uma reputação \"ÓTIMA\" no Reclame Aqui, com uma nota de 7.6/10.\n> \n> *   **Notícias:** Há notícias recentes sobre a Alura, incluindo a nomeação de um novo CEO e a oferta de cursos gratuitos em tecnologia.\n> \n> *   **Faturamento:** Atingiu um faturamento de R$ 500 milhões em 2023, com expectativas de alcançar R$ 1 bilhão em três anos.\n> \n> *   **Histórico:** A Alura faz parte de um ecossistema de educação em tecnologia, incluindo a FIAP e PM3, e está expandindo sua atuação para o ensino superior.\n> \n> \n"
          },
          "metadata": {}
        },
        {
          "output_type": "stream",
          "name": "stdout",
          "text": [
            "--------------------------------------------------------------\n",
            "\n",
            "--- 👨‍⚖️ Sugestão de decisão para o consumidor ---\n",
            "\n"
          ]
        },
        {
          "output_type": "display_data",
          "data": {
            "text/plain": [
              "<IPython.core.display.Markdown object>"
            ],
            "text/markdown": "> ## Avaliação de Confiança e Adequação da Alura para Você\n> \n> Com base nas informações fornecidas, a Alura demonstra ser uma empresa confiável e com boa reputação no mercado de educação em tecnologia.\n> \n> | Aspecto | Avaliação |\n> |---|---|\n> | **Confiança** | ✅ CONFIÁVEL |\n> | **Reputação** | 🟢 ÓTIMA (Reclame Aqui: 7.6/10) |\n> | **Faturamento** | 🟢 Expressivo (R$ 500 milhões em 2023) |\n> | **Notícias Recentes** | 🟢 Positivas (Novo CEO, cursos gratuitos) |\n> | **Histórico** | 🟢 Integrada a um ecossistema de educação (FIAP, PM3) |\n> \n> **Recomendação:**\n> \n> *   **Para quem é indicada:**\n>     *   Profissionais de tecnologia que buscam atualização e aprofundamento em suas áreas.\n>     *   Iniciantes que desejam ingressar no mercado de tecnologia com uma formação de qualidade.\n>     *   Empresas que buscam capacitar seus colaboradores em novas tecnologias e tendências do mercado.\n> *   **Para que finalidade:**\n>     *   Desenvolvimento de carreira em tecnologia.\n>     *   Atualização de conhecimentos técnicos.\n>     *   Capacitação para o mercado de trabalho.\n>     *   Desenvolvimento de habilidades específicas para projetos e desafios profissionais.\n> \n> **Diferenciais:**\n> \n> *   **Ecossistema:** A Alura faz parte de um grupo de empresas de educação em tecnologia, o que pode oferecer uma experiência de aprendizado mais completa e integrada.\n> *   **Cursos Gratuitos:** A oferta de cursos gratuitos demonstra o compromisso da Alura com a democratização do acesso à educação em tecnologia.\n> \n> **Pontos Positivos Relevantes (Recorrência nas Avaliações):**\n> \n> *   Qualidade dos cursos e materiais didáticos.\n> *   Professores experientes e atuantes no mercado.\n> *   Plataforma online intuitiva e fácil de usar.\n> *   Comunidade ativa e engajada.\n> \n> **Observação:**\n> \n> *   Embora a Alura apresente uma boa reputação, é sempre recomendado pesquisar e comparar com outras opções disponíveis no mercado antes de tomar uma decisão final.\n> \n> \n"
          },
          "metadata": {}
        },
        {
          "output_type": "stream",
          "name": "stdout",
          "text": [
            "--------------------------------------------------------------\n"
          ]
        }
      ]
    }
  ]
}