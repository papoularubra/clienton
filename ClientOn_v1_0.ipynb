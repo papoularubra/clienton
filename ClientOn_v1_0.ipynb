{
  "nbformat": 4,
  "nbformat_minor": 0,
  "metadata": {
    "colab": {
      "provenance": [],
      "include_colab_link": true
    },
    "kernelspec": {
      "name": "python3",
      "display_name": "Python 3"
    },
    "language_info": {
      "name": "python"
    }
  },
  "cells": [
    {
      "cell_type": "markdown",
      "metadata": {
        "id": "view-in-github",
        "colab_type": "text"
      },
      "source": [
        "<a href=\"https://colab.research.google.com/github/papoularubra/clienton/blob/main/ClientOn_v1_0.ipynb\" target=\"_parent\"><img src=\"https://colab.research.google.com/assets/colab-badge.svg\" alt=\"Open In Colab\"/></a>"
      ]
    },
    {
      "cell_type": "code",
      "source": [
        "%pip -q install google-genai"
      ],
      "metadata": {
        "id": "UCCbECexLk_h"
      },
      "execution_count": 1,
      "outputs": []
    },
    {
      "cell_type": "code",
      "source": [
        "# Configura a API Key do Google Gemini\n",
        "\n",
        "import os\n",
        "from google.colab import userdata\n",
        "\n",
        "os.environ[\"GOOGLE_API_KEY\"] = userdata.get('GOOGLE_API_KEY')"
      ],
      "metadata": {
        "id": "NfCqHo1tLk8P"
      },
      "execution_count": 2,
      "outputs": []
    },
    {
      "cell_type": "code",
      "source": [
        "# Configura o cliente da SDK do Gemini\n",
        "\n",
        "from google import genai\n",
        "\n",
        "client = genai.Client()\n",
        "\n",
        "MODEL_ID = \"gemini-2.0-flash\""
      ],
      "metadata": {
        "id": "bV4w0H5TLk5g"
      },
      "execution_count": 3,
      "outputs": []
    },
    {
      "cell_type": "code",
      "source": [
        "# Pergunta ao Gemini uma informação mais recente que seu conhecimento\n",
        "\n",
        "from IPython.display import HTML, Markdown\n",
        "\n",
        "# Perguntar pro modelo quando é a próxima imersão de IA ###############################################\n",
        "resposta = client.models.generate_content(\n",
        "    model=MODEL_ID,\n",
        "    contents='Quando é a próxima Imersão IA com Google Gemini da Alura?',\n",
        ")\n",
        "\n",
        "# Exibe a resposta na tela\n",
        "display(Markdown(f\"Resposta:\\n {response.text}\"))"
      ],
      "metadata": {
        "colab": {
          "base_uri": "https://localhost:8080/",
          "height": 128
        },
        "id": "Y9cBAz02xZt9",
        "outputId": "a05de9be-89d2-4b2b-a4b7-26d1337aea4d"
      },
      "execution_count": null,
      "outputs": [
        {
          "output_type": "display_data",
          "data": {
            "text/plain": [
              "<IPython.core.display.Markdown object>"
            ],
            "text/markdown": "Response:\n A Alura não tem uma data fixa para a Imersão IA com Google Gemini. Para saber quando será a próxima edição, o ideal é:\n\n*   **Acompanhar as redes sociais da Alura:** Instagram, LinkedIn, Twitter e Facebook são ótimos lugares para ficar por dentro dos anúncios.\n*   **Verificar a página de cursos de Inteligência Artificial da Alura:** Lá eles costumam divulgar os próximos eventos e formações.\n*   **Assinar a newsletter da Alura:** Assim, você recebe as novidades diretamente no seu e-mail.\n\nDessa forma, você não perde a próxima oportunidade!"
          },
          "metadata": {}
        }
      ]
    },
    {
      "cell_type": "code",
      "source": [
        "# Pergunta ao Gemini uma informação utilizando a busca do Google como contexto\n",
        "\n",
        "response = client.models.generate_content(\n",
        "    model=MODEL_ID,\n",
        "    contents='Quando é a próxima Imersão IA com Google Gemini da Alura?',\n",
        "    config={\"tools\": [{\"google_search\": {}}]}\n",
        ")\n",
        "\n",
        "# Exibe a resposta na tela\n",
        "display(Markdown(f\"Resposta:\\n {response.text}\"))"
      ],
      "metadata": {
        "colab": {
          "base_uri": "https://localhost:8080/",
          "height": 46
        },
        "id": "lc2JPA92xbnp",
        "outputId": "1f2ba382-7715-4bc2-cfb8-89d974127952"
      },
      "execution_count": null,
      "outputs": [
        {
          "output_type": "display_data",
          "data": {
            "text/plain": [
              "<IPython.core.display.Markdown object>"
            ],
            "text/markdown": "Response:\n A próxima Imersão IA com Google Gemini da Alura acontecerá de 12 a 16 de maio de 2025. As inscrições estão abertas até o dia 11 de maio de 2025."
          },
          "metadata": {}
        }
      ]
    },
    {
      "cell_type": "code",
      "source": [
        "# Exibe a busca\n",
        "print(f\"Busca realizada: {response.candidates[0].grounding_metadata.web_search_queries}\")\n",
        "# Exibe as URLs nas quais ele se baseou\n",
        "print(f\"Páginas utilizadas na resposta: {', '.join([site.web.title for site in response.candidates[0].grounding_metadata.grounding_chunks])}\")\n",
        "print()\n",
        "display(HTML(response.candidates[0].grounding_metadata.search_entry_point.rendered_content))"
      ],
      "metadata": {
        "colab": {
          "base_uri": "https://localhost:8080/",
          "height": 116
        },
        "id": "6Cg0KNJGMgC5",
        "outputId": "fd466980-91fc-4891-88d7-5f62257c3e5a"
      },
      "execution_count": null,
      "outputs": [
        {
          "output_type": "stream",
          "name": "stdout",
          "text": [
            "Busca realizada: ['Alura Imersão IA Google Gemini', 'próxima imersão IA com Google Gemini Alura']\n",
            "Páginas utilizadas na resposta: alura.com.br, youtube.com\n",
            "\n"
          ]
        },
        {
          "output_type": "display_data",
          "data": {
            "text/plain": [
              "<IPython.core.display.HTML object>"
            ],
            "text/html": [
              "<style>\n",
              ".container {\n",
              "  align-items: center;\n",
              "  border-radius: 8px;\n",
              "  display: flex;\n",
              "  font-family: Google Sans, Roboto, sans-serif;\n",
              "  font-size: 14px;\n",
              "  line-height: 20px;\n",
              "  padding: 8px 12px;\n",
              "}\n",
              ".chip {\n",
              "  display: inline-block;\n",
              "  border: solid 1px;\n",
              "  border-radius: 16px;\n",
              "  min-width: 14px;\n",
              "  padding: 5px 16px;\n",
              "  text-align: center;\n",
              "  user-select: none;\n",
              "  margin: 0 8px;\n",
              "  -webkit-tap-highlight-color: transparent;\n",
              "}\n",
              ".carousel {\n",
              "  overflow: auto;\n",
              "  scrollbar-width: none;\n",
              "  white-space: nowrap;\n",
              "  margin-right: -12px;\n",
              "}\n",
              ".headline {\n",
              "  display: flex;\n",
              "  margin-right: 4px;\n",
              "}\n",
              ".gradient-container {\n",
              "  position: relative;\n",
              "}\n",
              ".gradient {\n",
              "  position: absolute;\n",
              "  transform: translate(3px, -9px);\n",
              "  height: 36px;\n",
              "  width: 9px;\n",
              "}\n",
              "@media (prefers-color-scheme: light) {\n",
              "  .container {\n",
              "    background-color: #fafafa;\n",
              "    box-shadow: 0 0 0 1px #0000000f;\n",
              "  }\n",
              "  .headline-label {\n",
              "    color: #1f1f1f;\n",
              "  }\n",
              "  .chip {\n",
              "    background-color: #ffffff;\n",
              "    border-color: #d2d2d2;\n",
              "    color: #5e5e5e;\n",
              "    text-decoration: none;\n",
              "  }\n",
              "  .chip:hover {\n",
              "    background-color: #f2f2f2;\n",
              "  }\n",
              "  .chip:focus {\n",
              "    background-color: #f2f2f2;\n",
              "  }\n",
              "  .chip:active {\n",
              "    background-color: #d8d8d8;\n",
              "    border-color: #b6b6b6;\n",
              "  }\n",
              "  .logo-dark {\n",
              "    display: none;\n",
              "  }\n",
              "  .gradient {\n",
              "    background: linear-gradient(90deg, #fafafa 15%, #fafafa00 100%);\n",
              "  }\n",
              "}\n",
              "@media (prefers-color-scheme: dark) {\n",
              "  .container {\n",
              "    background-color: #1f1f1f;\n",
              "    box-shadow: 0 0 0 1px #ffffff26;\n",
              "  }\n",
              "  .headline-label {\n",
              "    color: #fff;\n",
              "  }\n",
              "  .chip {\n",
              "    background-color: #2c2c2c;\n",
              "    border-color: #3c4043;\n",
              "    color: #fff;\n",
              "    text-decoration: none;\n",
              "  }\n",
              "  .chip:hover {\n",
              "    background-color: #353536;\n",
              "  }\n",
              "  .chip:focus {\n",
              "    background-color: #353536;\n",
              "  }\n",
              "  .chip:active {\n",
              "    background-color: #464849;\n",
              "    border-color: #53575b;\n",
              "  }\n",
              "  .logo-light {\n",
              "    display: none;\n",
              "  }\n",
              "  .gradient {\n",
              "    background: linear-gradient(90deg, #1f1f1f 15%, #1f1f1f00 100%);\n",
              "  }\n",
              "}\n",
              "</style>\n",
              "<div class=\"container\">\n",
              "  <div class=\"headline\">\n",
              "    <svg class=\"logo-light\" width=\"18\" height=\"18\" viewBox=\"9 9 35 35\" fill=\"none\" xmlns=\"http://www.w3.org/2000/svg\">\n",
              "      <path fill-rule=\"evenodd\" clip-rule=\"evenodd\" d=\"M42.8622 27.0064C42.8622 25.7839 42.7525 24.6084 42.5487 23.4799H26.3109V30.1568H35.5897C35.1821 32.3041 33.9596 34.1222 32.1258 35.3448V39.6864H37.7213C40.9814 36.677 42.8622 32.2571 42.8622 27.0064V27.0064Z\" fill=\"#4285F4\"/>\n",
              "      <path fill-rule=\"evenodd\" clip-rule=\"evenodd\" d=\"M26.3109 43.8555C30.9659 43.8555 34.8687 42.3195 37.7213 39.6863L32.1258 35.3447C30.5898 36.3792 28.6306 37.0061 26.3109 37.0061C21.8282 37.0061 18.0195 33.9811 16.6559 29.906H10.9194V34.3573C13.7563 39.9841 19.5712 43.8555 26.3109 43.8555V43.8555Z\" fill=\"#34A853\"/>\n",
              "      <path fill-rule=\"evenodd\" clip-rule=\"evenodd\" d=\"M16.6559 29.8904C16.3111 28.8559 16.1074 27.7588 16.1074 26.6146C16.1074 25.4704 16.3111 24.3733 16.6559 23.3388V18.8875H10.9194C9.74388 21.2072 9.06992 23.8247 9.06992 26.6146C9.06992 29.4045 9.74388 32.022 10.9194 34.3417L15.3864 30.8621L16.6559 29.8904V29.8904Z\" fill=\"#FBBC05\"/>\n",
              "      <path fill-rule=\"evenodd\" clip-rule=\"evenodd\" d=\"M26.3109 16.2386C28.85 16.2386 31.107 17.1164 32.9095 18.8091L37.8466 13.8719C34.853 11.082 30.9659 9.3736 26.3109 9.3736C19.5712 9.3736 13.7563 13.245 10.9194 18.8875L16.6559 23.3388C18.0195 19.2636 21.8282 16.2386 26.3109 16.2386V16.2386Z\" fill=\"#EA4335\"/>\n",
              "    </svg>\n",
              "    <svg class=\"logo-dark\" width=\"18\" height=\"18\" viewBox=\"0 0 48 48\" xmlns=\"http://www.w3.org/2000/svg\">\n",
              "      <circle cx=\"24\" cy=\"23\" fill=\"#FFF\" r=\"22\"/>\n",
              "      <path d=\"M33.76 34.26c2.75-2.56 4.49-6.37 4.49-11.26 0-.89-.08-1.84-.29-3H24.01v5.99h8.03c-.4 2.02-1.5 3.56-3.07 4.56v.75l3.91 2.97h.88z\" fill=\"#4285F4\"/>\n",
              "      <path d=\"M15.58 25.77A8.845 8.845 0 0 0 24 31.86c1.92 0 3.62-.46 4.97-1.31l4.79 3.71C31.14 36.7 27.65 38 24 38c-5.93 0-11.01-3.4-13.45-8.36l.17-1.01 4.06-2.85h.8z\" fill=\"#34A853\"/>\n",
              "      <path d=\"M15.59 20.21a8.864 8.864 0 0 0 0 5.58l-5.03 3.86c-.98-2-1.53-4.25-1.53-6.64 0-2.39.55-4.64 1.53-6.64l1-.22 3.81 2.98.22 1.08z\" fill=\"#FBBC05\"/>\n",
              "      <path d=\"M24 14.14c2.11 0 4.02.75 5.52 1.98l4.36-4.36C31.22 9.43 27.81 8 24 8c-5.93 0-11.01 3.4-13.45 8.36l5.03 3.85A8.86 8.86 0 0 1 24 14.14z\" fill=\"#EA4335\"/>\n",
              "    </svg>\n",
              "    <div class=\"gradient-container\"><div class=\"gradient\"></div></div>\n",
              "  </div>\n",
              "  <div class=\"carousel\">\n",
              "    <a class=\"chip\" href=\"https://vertexaisearch.cloud.google.com/grounding-api-redirect/AWQVqALZ3mp6YrNAWssw-kcIgOiqwDo2BGh3M60ggePPkEuO8tT8DtqXSfJ5HvJ28XZVRcM0-2D5RnSvbbSfp42yX8AGcPe9fDWP5A5acQSIWfr1Pr2fpwV_I1_IqlxaIQBwh8TzFSiF3oCmO6KtgDDQaS4qixxx7v90EcA5YnCxXsuGMwQ1UuT3leKDSFqVYLdSClIPfv2dc6ocZT1Cn9yylCXRskWKCq8o29-4uykCFP9t4o0-Mn01u4yP\">próxima imersão IA com Google Gemini Alura</a>\n",
              "    <a class=\"chip\" href=\"https://vertexaisearch.cloud.google.com/grounding-api-redirect/AWQVqAJ5EQNtsUrFLgxdb2qJn7ytolKX2iLzgVA8HgOBc9MS9sCEBzF4nBZNnG6fN-guhJJLuRAAuWjA05M6BhMTpPQC9DIGGY8-EMacMgaTKBuC9NRtk0EcoKeM5FuRaNV8_LMlHj0QI2C4_ZzECM2cL_m9-I-XL9_dub--svs8iBIsbvhP3Uq4WXHkNm9D2M035QqRDF00Ixm-f9n1igibMH9ZyUU3SB3N\">Alura Imersão IA Google Gemini</a>\n",
              "  </div>\n",
              "</div>\n"
            ]
          },
          "metadata": {}
        }
      ]
    },
    {
      "cell_type": "code",
      "source": [
        "# Instalar Framework de agentes do Google ################################################\n",
        "!pip install -q google-adk"
      ],
      "metadata": {
        "colab": {
          "base_uri": "https://localhost:8080/"
        },
        "id": "a1eRPalxEnj7",
        "outputId": "53393427-2dd8-494c-983c-68a8bb0e43dd"
      },
      "execution_count": 4,
      "outputs": [
        {
          "output_type": "stream",
          "name": "stdout",
          "text": [
            "\u001b[?25l   \u001b[90m━━━━━━━━━━━━━━━━━━━━━━━━━━━━━━━━━━━━━━━━\u001b[0m \u001b[32m0.0/1.2 MB\u001b[0m \u001b[31m?\u001b[0m eta \u001b[36m-:--:--\u001b[0m\r\u001b[2K   \u001b[91m━━━━━━━━━━━━━━━━━━━━━━━━━━\u001b[0m\u001b[91m╸\u001b[0m\u001b[90m━━━━━━━━━━━━━\u001b[0m \u001b[32m0.8/1.2 MB\u001b[0m \u001b[31m23.8 MB/s\u001b[0m eta \u001b[36m0:00:01\u001b[0m\r\u001b[2K   \u001b[90m━━━━━━━━━━━━━━━━━━━━━━━━━━━━━━━━━━━━━━━━\u001b[0m \u001b[32m1.2/1.2 MB\u001b[0m \u001b[31m19.8 MB/s\u001b[0m eta \u001b[36m0:00:00\u001b[0m\n",
            "\u001b[?25h\u001b[?25l   \u001b[90m━━━━━━━━━━━━━━━━━━━━━━━━━━━━━━━━━━━━━━━━\u001b[0m \u001b[32m0.0/232.1 kB\u001b[0m \u001b[31m?\u001b[0m eta \u001b[36m-:--:--\u001b[0m\r\u001b[2K   \u001b[90m━━━━━━━━━━━━━━━━━━━━━━━━━━━━━━━━━━━━━━━━\u001b[0m \u001b[32m232.1/232.1 kB\u001b[0m \u001b[31m12.0 MB/s\u001b[0m eta \u001b[36m0:00:00\u001b[0m\n",
            "\u001b[?25h\u001b[?25l   \u001b[90m━━━━━━━━━━━━━━━━━━━━━━━━━━━━━━━━━━━━━━━━\u001b[0m \u001b[32m0.0/95.2 kB\u001b[0m \u001b[31m?\u001b[0m eta \u001b[36m-:--:--\u001b[0m\r\u001b[2K   \u001b[90m━━━━━━━━━━━━━━━━━━━━━━━━━━━━━━━━━━━━━━━━\u001b[0m \u001b[32m95.2/95.2 kB\u001b[0m \u001b[31m5.4 MB/s\u001b[0m eta \u001b[36m0:00:00\u001b[0m\n",
            "\u001b[2K   \u001b[90m━━━━━━━━━━━━━━━━━━━━━━━━━━━━━━━━━━━━━━━━\u001b[0m \u001b[32m217.1/217.1 kB\u001b[0m \u001b[31m10.5 MB/s\u001b[0m eta \u001b[36m0:00:00\u001b[0m\n",
            "\u001b[2K   \u001b[90m━━━━━━━━━━━━━━━━━━━━━━━━━━━━━━━━━━━━━━━━\u001b[0m \u001b[32m334.1/334.1 kB\u001b[0m \u001b[31m16.5 MB/s\u001b[0m eta \u001b[36m0:00:00\u001b[0m\n",
            "\u001b[2K   \u001b[90m━━━━━━━━━━━━━━━━━━━━━━━━━━━━━━━━━━━━━━━━\u001b[0m \u001b[32m125.1/125.1 kB\u001b[0m \u001b[31m6.3 MB/s\u001b[0m eta \u001b[36m0:00:00\u001b[0m\n",
            "\u001b[2K   \u001b[90m━━━━━━━━━━━━━━━━━━━━━━━━━━━━━━━━━━━━━━━━\u001b[0m \u001b[32m65.8/65.8 kB\u001b[0m \u001b[31m3.4 MB/s\u001b[0m eta \u001b[36m0:00:00\u001b[0m\n",
            "\u001b[2K   \u001b[90m━━━━━━━━━━━━━━━━━━━━━━━━━━━━━━━━━━━━━━━━\u001b[0m \u001b[32m119.0/119.0 kB\u001b[0m \u001b[31m6.6 MB/s\u001b[0m eta \u001b[36m0:00:00\u001b[0m\n",
            "\u001b[2K   \u001b[90m━━━━━━━━━━━━━━━━━━━━━━━━━━━━━━━━━━━━━━━━\u001b[0m \u001b[32m194.9/194.9 kB\u001b[0m \u001b[31m10.9 MB/s\u001b[0m eta \u001b[36m0:00:00\u001b[0m\n",
            "\u001b[2K   \u001b[90m━━━━━━━━━━━━━━━━━━━━━━━━━━━━━━━━━━━━━━━━\u001b[0m \u001b[32m62.5/62.5 kB\u001b[0m \u001b[31m3.1 MB/s\u001b[0m eta \u001b[36m0:00:00\u001b[0m\n",
            "\u001b[2K   \u001b[90m━━━━━━━━━━━━━━━━━━━━━━━━━━━━━━━━━━━━━━━━\u001b[0m \u001b[32m103.3/103.3 kB\u001b[0m \u001b[31m4.5 MB/s\u001b[0m eta \u001b[36m0:00:00\u001b[0m\n",
            "\u001b[2K   \u001b[90m━━━━━━━━━━━━━━━━━━━━━━━━━━━━━━━━━━━━━━━━\u001b[0m \u001b[32m44.4/44.4 kB\u001b[0m \u001b[31m2.1 MB/s\u001b[0m eta \u001b[36m0:00:00\u001b[0m\n",
            "\u001b[2K   \u001b[90m━━━━━━━━━━━━━━━━━━━━━━━━━━━━━━━━━━━━━━━━\u001b[0m \u001b[32m72.0/72.0 kB\u001b[0m \u001b[31m3.6 MB/s\u001b[0m eta \u001b[36m0:00:00\u001b[0m\n",
            "\u001b[?25h"
          ]
        }
      ]
    },
    {
      "cell_type": "code",
      "execution_count": 55,
      "metadata": {
        "id": "aePV2bdfDeoW"
      },
      "outputs": [],
      "source": [
        "from google.adk.agents import Agent\n",
        "from google.adk.runners import Runner\n",
        "from google.adk.sessions import InMemorySessionService\n",
        "from google.adk.tools import google_search\n",
        "from google.genai import types  # Para criar conteúdos (Content e Part)\n",
        "from datetime import date\n",
        "import textwrap # Para formatar melhor a saída de texto\n",
        "from IPython.display import display, Markdown # Para exibir texto formatado no Colab\n",
        "import requests # Para fazer requisições HTTP\n",
        "import warnings\n",
        "\n",
        "warnings.filterwarnings(\"ignore\")"
      ]
    },
    {
      "cell_type": "code",
      "source": [
        "# Função auxiliar que envia uma mensagem para um agente via Runner e retorna a resposta final\n",
        "def call_agent(agent: Agent, message_text: str) -> str:\n",
        "    # Cria um serviço de sessão em memória\n",
        "    session_service = InMemorySessionService()\n",
        "    # Cria uma nova sessão (você pode personalizar os IDs conforme necessário)\n",
        "    session = session_service.create_session(app_name=agent.name, user_id=\"user1\", session_id=\"session1\")\n",
        "    # Cria um Runner para o agente\n",
        "    runner = Runner(agent=agent, app_name=agent.name, session_service=session_service)\n",
        "    # Cria o conteúdo da mensagem de entrada\n",
        "    content = types.Content(role=\"user\", parts=[types.Part(text=message_text)])\n",
        "\n",
        "    final_response = \"\"\n",
        "    # Itera assincronamente pelos eventos retornados durante a execução do agente\n",
        "    for event in runner.run(user_id=\"user1\", session_id=\"session1\", new_message=content):\n",
        "        if event.is_final_response():\n",
        "          for part in event.content.parts:\n",
        "            if part.text is not None:\n",
        "              final_response += part.text\n",
        "              final_response += \"\\n\"\n",
        "    return final_response"
      ],
      "metadata": {
        "id": "_xP4lWhsS5ko"
      },
      "execution_count": 6,
      "outputs": []
    },
    {
      "cell_type": "code",
      "source": [
        "# Função auxiliar para exibir texto formatado em Markdown no Colab\n",
        "def to_markdown(text):\n",
        "  text = text.replace('•', '  *')\n",
        "  return Markdown(textwrap.indent(text, '> ', predicate=lambda _: True))"
      ],
      "metadata": {
        "id": "8dosiodaxfFR"
      },
      "execution_count": 7,
      "outputs": []
    },
    {
      "cell_type": "code",
      "source": [
        "##########################################\n",
        "# -- Agente 1: Buscador de Informações -- #\n",
        "##########################################\n",
        "def agente_buscador(topico, data_de_hoje):\n",
        "\n",
        "    buscador = Agent(\n",
        "        name=\"agente_buscador\",\n",
        "        model=\"gemini-2.0-flash\",\n",
        "        instruction=\"\"\"\n",
        "        Você é um assistente de pesquisa especializado em due diligence de empresas.\n",
        "        Sua tarefa é realizar uma investigação abrangente sobre a reputação e histórico da empresa indicada em topico.\n",
        "        Para isso, utilize a ferramenta de busca do Google (google_search) para:\n",
        "        - Identificar informações básicas da empresa:\n",
        "        CNPJ, data de fundação/tempo de existência, endereço, nicho de mercado principal e outras informações cadastrais relevantes.\n",
        "        - Consultar a reputação online:\n",
        "        Buscar e analisar avaliações e reclamações sobre a empresa em topico no site Reclame Aqui (reclameaqui.com.br).\n",
        "        Explorar outras plataformas de avaliação de consumidores e reputação de empresas (se disponíveis e relevantes para o contexto brasileiro).\n",
        "        Investigar comentários em redes sociais da empresa ou sobre a empresa em topico.\n",
        "        - Buscar notícias sobre a empresa em topico, fotos e avaliações no API Places do Google.\n",
        "        - Verificar pendências legais e regulatórias:\n",
        "        Pesquisar por processos judiciais e menções da empresa em topico no Jusbrasil e sites jurídicos oficiais.\n",
        "        Verificar a existência de reclamações ou processos administrativos contra a empresa em topico\n",
        "        no Procon e outros órgãos reguladores relevantes para o nicho da empresa.\n",
        "        \"\"\",\n",
        "        description=\"Agente que busca informações no Google\",\n",
        "        tools=[google_search]\n",
        "    )\n",
        "\n",
        "    entrada_do_agente_buscador = f\"Empresa: {topico}\\nData de hoje: {data_de_hoje}\"\n",
        "\n",
        "    lancamentos = call_agent(buscador, entrada_do_agente_buscador)\n",
        "    return lancamentos"
      ],
      "metadata": {
        "id": "o8bqIfi_DyH8"
      },
      "execution_count": 62,
      "outputs": []
    },
    {
      "cell_type": "code",
      "source": [
        "################################################\n",
        "# --- Agente 2: Avaliador de reputação --- #\n",
        "################################################\n",
        "def agente_avaliador(topico, lancamentos_buscados):\n",
        "    avaliador = Agent(\n",
        "        name=\"agente_avaliador\",\n",
        "        model=\"gemini-2.0-flash\", #não foi possível usar um modelo mais avançado, mas seria o ideal\n",
        "\n",
        "        # Inserir as instruções do Agente Avaliador #################################################\n",
        "        instruction=\"\"\"\n",
        "        Você é um orientador de consumidores especializado em due diligence de empresas.\n",
        "        Com base em\n",
        "        1 - nas informações levantadas pelo agente buscador, e/ou\n",
        "        2 - na análise dos requisitos de segurança do link indicado em tópico, se for um link\n",
        "        (Caso o usuário peça informações a partir de um link, realize as ações anteriores cabíveis e também:\n",
        "        - Identifique se o link é seguro.\n",
        "        - Identifique se o link é de propriedade da empresa sugerida.\n",
        "        - Verifique os selos de segurança do site, a política de privacidade, certificado SSL e outros critérios de segurança\n",
        "        que ajudem a evitar que o usuário caia em um golpe.),\n",
        "        você deve:\n",
        "        - Usar a ferramenta de busca do Google (google_search) para indicar se a empresa é confiável ou não e\n",
        "        elaborar uma justificativa para a afirmação, de maneira sucinta, linguagem clara e acessível.\n",
        "        - Se possível, categorize os tipos de reclamações ou avaliações\n",
        "        (por exemplo, problemas com produto, atendimento, entrega) para fornecer uma visão mais detalhada da reputação.\n",
        "        - Mencione a data dos principais comentários e categorize como \"Elogio\", \"Reclamação\" ou \"Neutro\".\n",
        "        Destaque a informação desse agente em relação aos outros, pois é a mais importante.\n",
        "        Destaque a conclusão sobre a empresa ou site ser confiável ou não colocando as expressões \"É CONFIÁVEL\" ou \"NÃO É CONFIÁVEL\"\n",
        "        em negrito e caixa alta.\n",
        "        \"\"\",\n",
        "        description=\"Agente que avalia a confiabilidade da empresa\",\n",
        "        tools=[google_search]\n",
        "    )\n",
        "\n",
        "    entrada_do_agente_avaliador = f\"Tópico:{topico}\\nLançamentos buscados: {lancamentos_buscados}\"\n",
        "    # Executa o agente\n",
        "    avaliacao_da_empresa = call_agent(avaliador, entrada_do_agente_avaliador)\n",
        "    return avaliacao_da_empresa"
      ],
      "metadata": {
        "id": "y3VO1uo5_ghO"
      },
      "execution_count": 63,
      "outputs": []
    },
    {
      "cell_type": "code",
      "source": [
        "######################################\n",
        "# --- Agente 3: Consultor --- #\n",
        "######################################\n",
        "def agente_consultor(topico, avaliacao_da_empresa):\n",
        "    consultor = Agent(\n",
        "        name=\"agente_consultor\",\n",
        "        model=\"gemini-2.0-flash\",\n",
        "        instruction=\"\"\"\n",
        "            Você é um consultor de consumidores, com foco em oferecer respostas claras e concisas para ajudá-los\n",
        "            no consumo consciente e seguro diante da escolha de uma empresa.\n",
        "            Com base nas informações dos lacamentos_buscados e avaliacao_da_empresa, você deve:\n",
        "            - Considerar o tom geral das avaliações e reclamações encontradas pelo agente_buscador e agente_avaliador.\n",
        "            - Indicar ao cliente se deve ou não negociar com a empresa ou comprar um produto dela.\n",
        "            - Indicar para qual público e finalidade a empresa é indicada.\n",
        "            - Se cabível, indicar aspectos de responsabilidade social, compliance, sustentabilidade e\n",
        "            outras práticas que forem um diferencial da empresa.\n",
        "            - Se a empresa for CONFIÁVEL: mencionar pontos positivos mais relevantes com base na recorrência do tema nas avaliações.\n",
        "            - Se cabível, indicar concorrente para comparação, apenas se tiver qualidades compatíveis ou superiores às da empresa pesquisada.\n",
        "            - Compare a reputação da empresa consultada com a média do setor, se houver dados disponíveis.\n",
        "            - Considere que empresas sem informações cadastrais online, como CNPJ, não são confiáveis.\n",
        "            \"\"\",\n",
        "        description=\"Agente consultor de negocios com foco no cliente\"\n",
        "    )\n",
        "    entrada_do_agente_consultor = f\"Tópico: {topico}\\nPlano de post: {avaliacao_da_empresa}\"\n",
        "    # Executa o agente\n",
        "    decisao_consumidor = call_agent(consultor, entrada_do_agente_consultor)\n",
        "    return decisao_consumidor"
      ],
      "metadata": {
        "id": "uOqlg2TRLVh1"
      },
      "execution_count": 69,
      "outputs": []
    },
    {
      "cell_type": "code",
      "source": [
        "data_de_hoje = date.today().strftime(\"%d/%m/%Y\")\n",
        "\n",
        "print(\"🧐 Iniciando o Sistema de Avaliação de Confiança de Empresas 🧐\")\n",
        "\n",
        "# --- Obter o Tópico do Usuário ---\n",
        "topico = input(\"Digite o link do site ou o nome da empresa sobre a qual você deseja informações: \")\n",
        "\n",
        "# Inserir lógica do sistema de agentes ################################################\n",
        "if not topico:\n",
        "    print(\"Você esqueceu de digitar o tópico!\")\n",
        "else:\n",
        "    print(f\"Maravilha! Vamos saber mais sobre a empresa {topico}\")\n",
        "\n",
        "    lancamentos_buscados = agente_buscador(topico, data_de_hoje)\n",
        "    print(\"\\n--- 📝 Informações sobre a empresa ---\\n\")\n",
        "    display(to_markdown(lancamentos_buscados))\n",
        "    print(\"--------------------------------------------------------------\")\n",
        "\n",
        "    avaliacao_da_empresa = agente_avaliador(topico, lancamentos_buscados)\n",
        "    print(\"\\n---❓Análise de confiança ---\\n\")\n",
        "    display(to_markdown(avaliacao_da_empresa))\n",
        "    print(\"--------------------------------------------------------------\")\n",
        "\n",
        "    decisao_consumidor = agente_consultor(topico, avaliacao_da_empresa)\n",
        "    print(\"\\n--- 👨‍⚖️ Sugestão de decisão para o consumidor ---\\n\")\n",
        "    display(to_markdown(decisao_consumidor))\n",
        "    print(\"--------------------------------------------------------------\")\n",
        "\n",
        ""
      ],
      "metadata": {
        "colab": {
          "base_uri": "https://localhost:8080/",
          "height": 1000
        },
        "id": "6xzI6LKzxxnN",
        "outputId": "51f737a7-e345-41e1-ca90-7e3c57266e3c"
      },
      "execution_count": 71,
      "outputs": [
        {
          "output_type": "stream",
          "name": "stdout",
          "text": [
            "🧐 Iniciando o Sistema de Avaliação de Confiança de Empresas 🧐\n",
            "Digite o link do site ou o nome da empresa sobre a qual você deseja informações: http://www.tnbgff02.ru/\n",
            "Maravilha! Vamos saber mais sobre a empresa http://www.tnbgff02.ru/\n",
            "\n",
            "--- 📝 Informações sobre a empresa ---\n",
            "\n"
          ]
        },
        {
          "output_type": "display_data",
          "data": {
            "text/plain": [
              "<IPython.core.display.Markdown object>"
            ],
            "text/markdown": "> Realizei uma busca abrangente sobre a empresa http://www.tnbgff02.ru/. Os resultados da pesquisa foram limitados, mas seguem os detalhes encontrados:\n> \n> **Informações básicas da empresa:**\n> \n> *   A pesquisa não retornou informações cadastrais como CNPJ, data de fundação ou endereço. Isso pode indicar que a empresa não está registrada no Brasil ou que as informações não estão publicamente disponíveis.\n> *   O domínio \"tnbgff02.ru\" sugere que a empresa pode estar registrada na Rússia (.ru é o domínio de topo para a Rússia).\n> \n> **Reputação online:**\n> \n> *   Não foram encontradas avaliações ou reclamações sobre a empresa no Reclame Aqui. A ausência de informações no Reclame Aqui pode significar que a empresa não tem um histórico de reclamações significativas no Brasil ou que não é conhecida o suficiente para ter avaliações relevantes.\n> *   A pesquisa não retornou resultados significativos em outras plataformas de avaliação de consumidores ou redes sociais.\n> \n> **Pendências legais e regulatórias:**\n> \n> *   Não foram encontrados processos judiciais ou menções da empresa no Jusbrasil.\n> *   Não foram encontradas reclamações ou processos administrativos contra a empresa no Procon.\n> \n> **Considerações adicionais:**\n> \n> *   A falta de informações relevantes sobre a empresa levanta questões sobre sua reputação e histórico. Recomenda-se cautela ao interagir com essa empresa.\n> *   Se você pretende fazer negócios com a empresa, é aconselhável realizar uma due diligence mais aprofundada, buscando informações em fontes russas ou internacionais, dependendo do caso.\n> \n> **Observação:** A pesquisa foi realizada em português, com foco em fontes brasileiras. Pode ser necessário realizar buscas em outros idiomas e em fontes de outros países para obter informações mais completas sobre a empresa.\n> \n"
          },
          "metadata": {}
        },
        {
          "output_type": "stream",
          "name": "stdout",
          "text": [
            "--------------------------------------------------------------\n",
            "\n",
            "---❓Análise de confiança ---\n",
            "\n"
          ]
        },
        {
          "output_type": "display_data",
          "data": {
            "text/plain": [
              "<IPython.core.display.Markdown object>"
            ],
            "text/markdown": "> Com base nas informações que você forneceu, elaborei uma análise sobre a confiabilidade do site http://www.tnbgff02.ru/.\n> \n> **Análise de Confiabilidade do Site tnbgff02.ru**\n> \n> A falta de informações cadastrais como CNPJ, data de fundação e endereço é um ponto de atenção. O domínio \".ru\" sugere que a empresa pode estar registrada na Rússia, o que exige cautela adicional, especialmente se você está no Brasil. A ausência de avaliações no Reclame Aqui e outras plataformas pode ser tanto um ponto positivo quanto negativo, indicando falta de informações disponíveis. A inexistência de processos judiciais ou reclamações no Jusbrasil e Procon é outro fator a ser considerado.\n> \n> **Recomendações:**\n> \n> 1.  **Cautela:** Dada a escassez de informações, é crucial ter cautela ao interagir com esta empresa.\n> 2.  **Due Diligence:** Realize uma investigação mais aprofundada, buscando informações em fontes russas ou internacionais.\n> 3.  **Verificação de Segurança:** Verifique se o site possui certificado SSL (https) e uma política de privacidade clara.\n> \n> **Conclusão:**\n> \n> Considerando a falta de informações verificáveis e a localização do domínio na Rússia, **NÃO É CONFIÁVEL** interagir com este site sem antes realizar uma investigação mais aprofundada.\n> \n"
          },
          "metadata": {}
        },
        {
          "output_type": "stream",
          "name": "stdout",
          "text": [
            "--------------------------------------------------------------\n",
            "\n",
            "--- 👨‍⚖️ Sugestão de decisão para o consumidor ---\n",
            "\n"
          ]
        },
        {
          "output_type": "display_data",
          "data": {
            "text/plain": [
              "<IPython.core.display.Markdown object>"
            ],
            "text/markdown": "> Com base nas informações que você forneceu, concordo plenamente com a sua análise e conclusões. A falta de informações cadastrais, a ausência de avaliações em plataformas de reclamação e a localização do domínio na Rússia são fortes indicadores de que o site http://www.tnbgff02.ru/ não é confiável.\n> \n> **Reitero as recomendações:**\n> \n> *   **Cautela Extrema:** Evite ao máximo qualquer interação com este site até que informações mais concretas e positivas sejam encontradas.\n> *   **Investigação Aprofundada:** Se você realmente precisa interagir com essa empresa, busque informações em fontes russas, fóruns especializados ou até mesmo serviços de investigação de empresas.\n> *   **Segurança em Primeiro Lugar:** Nunca compartilhe informações pessoais ou financeiras sem antes verificar a autenticidade e segurança do site.\n> \n> **Público e Finalidade:**\n> \n> Considerando o alto risco, não é possível indicar este site para nenhum público ou finalidade específica.\n> \n> **Alternativas:**\n> \n> Sem conhecer a natureza dos produtos ou serviços oferecidos pelo site, é impossível indicar um concorrente adequado. No entanto, sugiro que você procure por empresas brasileiras ou internacionais com boa reputação, informações cadastrais claras e avaliações positivas em plataformas de confiança.\n> \n> **Em resumo:**\n> \n> Diante da falta de informações e dos riscos envolvidos, **NÃO RECOMENDO** que você negocie ou compre qualquer produto ou serviço do site http://www.tnbgff02.ru/ sem antes realizar uma investigação completa e se certificar da sua legitimidade. Priorize sempre a sua segurança e a proteção dos seus dados.\n"
          },
          "metadata": {}
        },
        {
          "output_type": "stream",
          "name": "stdout",
          "text": [
            "--------------------------------------------------------------\n"
          ]
        }
      ]
    }
  ]
}